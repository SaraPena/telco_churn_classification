{
 "cells": [
  {
   "cell_type": "markdown",
   "metadata": {},
   "source": [
    "# Why does a Telco customer churn?"
   ]
  },
  {
   "cell_type": "markdown",
   "metadata": {},
   "source": [
    "## Project Planning"
   ]
  },
  {
   "cell_type": "markdown",
   "metadata": {},
   "source": [
    "1. Project Summary & Goals\n",
    "    \n",
    "    Create a model that can predict customer churn better than a model that predicts only on the overal churn rate of 26%\n",
    "    \n",
    "    Perform Analysis that helps answer the folloring questions:\n",
    "    * Could the month in which they signed up influence churn? i.e. if a cohort is identified by tenure, is there a cohort or cohorts who have a higher rate of churn than other cohorts?\n",
    "    \n",
    "    * Are there features that indicate a higher propensity to churn? like type of internet service, type of phone service, online security and backup, senior citizens, paying more than x% of customers with the same services, etc.?\n",
    "    \n",
    "    * Is there a price threshold for specific services where the likelihood of churn increases once price for those services goes past that point? If so, what is that point for what service(s)?\n",
    "    \n",
    "    * If we looked at churn rate for month-to-month customers after the 12th month and that of 1-year contract customers after the 12th month, are those rates comparable?\n",
    "    \n",
    "    \n",
    "2. Pipeline Process:\n",
    "     - Acquire - aquire data from the `customers` table from the `telco_churn` database on the codeup datascience database server.\n",
    "      \n",
    "     > *idea - join some tables as part of the query*. \n",
    "      \n",
    "     > This data will be read into a pandas dataframe.\n",
    "     \n",
    "     > Summarize data (.info(), .describe(), .value_counts(), ...)\n",
    "     \n",
    "     > plot distributions of individual variables\n",
    "     "
   ]
  },
  {
   "cell_type": "code",
   "execution_count": 1,
   "metadata": {},
   "outputs": [
    {
     "name": "stdout",
     "output_type": "stream",
     "text": [
      "<class 'pandas.core.frame.DataFrame'>\n",
      "Index: 7032 entries, 0003-MKNFE to 9975-GPKZU\n",
      "Data columns (total 4 columns):\n",
      "Electronic check             7032 non-null float64\n",
      "Mailed check                 7032 non-null float64\n",
      "Bank transfer (automatic)    7032 non-null float64\n",
      "Credit card (automatic)      7032 non-null float64\n",
      "dtypes: float64(4)\n",
      "memory usage: 594.7+ KB\n"
     ]
    }
   ],
   "source": [
    "import pandas as pd\n",
    "import numpy as np\n",
    "import math\n",
    "\n",
    "from sklearn.model_selection import train_test_split\n",
    "from sklearn.linear_model import LogisticRegression\n",
    "from sklearn.tree import DecisionTreeClassifier\n",
    "from sklearn.ensemble import RandomForestClassifier\n",
    "from sklearn.neighbors import KNeighborsClassifier\n",
    "from sklearn.tree import export_graphviz\n",
    "from sklearn.metrics import classification_report, confusion_matrix\n",
    "from sklearn.preprocessing import StandardScaler\n",
    "\n",
    "from scipy import stats\n",
    "\n",
    "import matplotlib.pyplot as plt\n",
    "%matplotlib inline\n",
    "import seaborn as sns\n",
    "\n",
    "# ignore_warnings\n",
    "import warnings\n",
    "warnings.filterwarnings(\"ignore\")\n",
    "\n",
    "import acquire\n",
    "import prepare"
   ]
  },
  {
   "cell_type": "markdown",
   "metadata": {},
   "source": [
    "***Acquire the data from Sequel database telco_churn***"
   ]
  },
  {
   "cell_type": "code",
   "execution_count": 2,
   "metadata": {},
   "outputs": [],
   "source": [
    "query = '''SELECT * \n",
    "           FROM customers\n",
    "           JOIN contract_types USING (contract_type_id)\n",
    "           JOIN internet_service_types USING (internet_service_type_id)\n",
    "           JOIN payment_types using (payment_type_id)'''\n",
    "\n",
    "db = 'telco_churn'"
   ]
  },
  {
   "cell_type": "code",
   "execution_count": 3,
   "metadata": {},
   "outputs": [],
   "source": [
    "df = acquire.get_data_from_mysql(query,db)"
   ]
  },
  {
   "cell_type": "markdown",
   "metadata": {},
   "source": [
    "***Describe the database***"
   ]
  },
  {
   "cell_type": "code",
   "execution_count": 4,
   "metadata": {},
   "outputs": [],
   "source": [
    "# We will fill any empty spaces in the database with np.nan\n",
    "df.replace([' ', '$', '<', '>',('NA').lower], np.nan, inplace = True)"
   ]
  },
  {
   "cell_type": "code",
   "execution_count": 5,
   "metadata": {},
   "outputs": [
    {
     "name": "stdout",
     "output_type": "stream",
     "text": [
      "<class 'pandas.core.frame.DataFrame'>\n",
      "RangeIndex: 7043 entries, 0 to 7042\n",
      "Data columns (total 24 columns):\n",
      "payment_type_id             7043 non-null int64\n",
      "internet_service_type_id    7043 non-null int64\n",
      "contract_type_id            7043 non-null int64\n",
      "customer_id                 7043 non-null object\n",
      "gender                      7043 non-null object\n",
      "senior_citizen              7043 non-null int64\n",
      "partner                     7043 non-null object\n",
      "dependents                  7043 non-null object\n",
      "tenure                      7043 non-null int64\n",
      "phone_service               7043 non-null object\n",
      "multiple_lines              7043 non-null object\n",
      "online_security             7043 non-null object\n",
      "online_backup               7043 non-null object\n",
      "device_protection           7043 non-null object\n",
      "tech_support                7043 non-null object\n",
      "streaming_tv                7043 non-null object\n",
      "streaming_movies            7043 non-null object\n",
      "paperless_billing           7043 non-null object\n",
      "monthly_charges             7043 non-null float64\n",
      "total_charges               7032 non-null object\n",
      "churn                       7043 non-null object\n",
      "contract_type               7043 non-null object\n",
      "internet_service_type       7043 non-null object\n",
      "payment_type                7043 non-null object\n",
      "dtypes: float64(1), int64(5), object(18)\n",
      "memory usage: 1.3+ MB\n"
     ]
    }
   ],
   "source": [
    "# Check to find if there are any null values\n",
    "df.info()"
   ]
  },
  {
   "cell_type": "code",
   "execution_count": 6,
   "metadata": {},
   "outputs": [
    {
     "name": "stdout",
     "output_type": "stream",
     "text": [
      "<class 'pandas.core.frame.DataFrame'>\n",
      "RangeIndex: 7043 entries, 0 to 7042\n",
      "Data columns (total 24 columns):\n",
      "payment_type_id             7043 non-null int64\n",
      "internet_service_type_id    7043 non-null int64\n",
      "contract_type_id            7043 non-null int64\n",
      "customer_id                 7043 non-null object\n",
      "gender                      7043 non-null object\n",
      "senior_citizen              7043 non-null int64\n",
      "partner                     7043 non-null object\n",
      "dependents                  7043 non-null object\n",
      "tenure                      7043 non-null int64\n",
      "phone_service               7043 non-null object\n",
      "multiple_lines              7043 non-null object\n",
      "online_security             7043 non-null object\n",
      "online_backup               7043 non-null object\n",
      "device_protection           7043 non-null object\n",
      "tech_support                7043 non-null object\n",
      "streaming_tv                7043 non-null object\n",
      "streaming_movies            7043 non-null object\n",
      "paperless_billing           7043 non-null object\n",
      "monthly_charges             7043 non-null float64\n",
      "total_charges               7032 non-null float64\n",
      "churn                       7043 non-null object\n",
      "contract_type               7043 non-null object\n",
      "internet_service_type       7043 non-null object\n",
      "payment_type                7043 non-null object\n",
      "dtypes: float64(2), int64(5), object(17)\n",
      "memory usage: 1.3+ MB\n"
     ]
    }
   ],
   "source": [
    "# We want to be able to handle total_charges as a numeric data type. \n",
    "df = df.astype({'total_charges': 'float64'})\n",
    "df.info()"
   ]
  },
  {
   "cell_type": "code",
   "execution_count": 7,
   "metadata": {},
   "outputs": [
    {
     "data": {
      "text/html": [
       "<div>\n",
       "<style scoped>\n",
       "    .dataframe tbody tr th:only-of-type {\n",
       "        vertical-align: middle;\n",
       "    }\n",
       "\n",
       "    .dataframe tbody tr th {\n",
       "        vertical-align: top;\n",
       "    }\n",
       "\n",
       "    .dataframe thead th {\n",
       "        text-align: right;\n",
       "    }\n",
       "</style>\n",
       "<table border=\"1\" class=\"dataframe\">\n",
       "  <thead>\n",
       "    <tr style=\"text-align: right;\">\n",
       "      <th></th>\n",
       "      <th>payment_type_id</th>\n",
       "      <th>internet_service_type_id</th>\n",
       "      <th>contract_type_id</th>\n",
       "      <th>senior_citizen</th>\n",
       "      <th>tenure</th>\n",
       "      <th>monthly_charges</th>\n",
       "      <th>total_charges</th>\n",
       "    </tr>\n",
       "  </thead>\n",
       "  <tbody>\n",
       "    <tr>\n",
       "      <th>count</th>\n",
       "      <td>7043.000000</td>\n",
       "      <td>7043.000000</td>\n",
       "      <td>7043.000000</td>\n",
       "      <td>7043.000000</td>\n",
       "      <td>7043.000000</td>\n",
       "      <td>7043.000000</td>\n",
       "      <td>7032.000000</td>\n",
       "    </tr>\n",
       "    <tr>\n",
       "      <th>mean</th>\n",
       "      <td>2.315633</td>\n",
       "      <td>1.872923</td>\n",
       "      <td>1.690473</td>\n",
       "      <td>0.162147</td>\n",
       "      <td>32.371149</td>\n",
       "      <td>64.761692</td>\n",
       "      <td>2283.300441</td>\n",
       "    </tr>\n",
       "    <tr>\n",
       "      <th>std</th>\n",
       "      <td>1.148907</td>\n",
       "      <td>0.737796</td>\n",
       "      <td>0.833755</td>\n",
       "      <td>0.368612</td>\n",
       "      <td>24.559481</td>\n",
       "      <td>30.090047</td>\n",
       "      <td>2266.771362</td>\n",
       "    </tr>\n",
       "    <tr>\n",
       "      <th>min</th>\n",
       "      <td>1.000000</td>\n",
       "      <td>1.000000</td>\n",
       "      <td>1.000000</td>\n",
       "      <td>0.000000</td>\n",
       "      <td>0.000000</td>\n",
       "      <td>18.250000</td>\n",
       "      <td>18.800000</td>\n",
       "    </tr>\n",
       "    <tr>\n",
       "      <th>25%</th>\n",
       "      <td>1.000000</td>\n",
       "      <td>1.000000</td>\n",
       "      <td>1.000000</td>\n",
       "      <td>0.000000</td>\n",
       "      <td>9.000000</td>\n",
       "      <td>35.500000</td>\n",
       "      <td>401.450000</td>\n",
       "    </tr>\n",
       "    <tr>\n",
       "      <th>50%</th>\n",
       "      <td>2.000000</td>\n",
       "      <td>2.000000</td>\n",
       "      <td>1.000000</td>\n",
       "      <td>0.000000</td>\n",
       "      <td>29.000000</td>\n",
       "      <td>70.350000</td>\n",
       "      <td>1397.475000</td>\n",
       "    </tr>\n",
       "    <tr>\n",
       "      <th>75%</th>\n",
       "      <td>3.000000</td>\n",
       "      <td>2.000000</td>\n",
       "      <td>2.000000</td>\n",
       "      <td>0.000000</td>\n",
       "      <td>55.000000</td>\n",
       "      <td>89.850000</td>\n",
       "      <td>3794.737500</td>\n",
       "    </tr>\n",
       "    <tr>\n",
       "      <th>max</th>\n",
       "      <td>4.000000</td>\n",
       "      <td>3.000000</td>\n",
       "      <td>3.000000</td>\n",
       "      <td>1.000000</td>\n",
       "      <td>72.000000</td>\n",
       "      <td>118.750000</td>\n",
       "      <td>8684.800000</td>\n",
       "    </tr>\n",
       "  </tbody>\n",
       "</table>\n",
       "</div>"
      ],
      "text/plain": [
       "       payment_type_id  internet_service_type_id  contract_type_id  \\\n",
       "count      7043.000000               7043.000000       7043.000000   \n",
       "mean          2.315633                  1.872923          1.690473   \n",
       "std           1.148907                  0.737796          0.833755   \n",
       "min           1.000000                  1.000000          1.000000   \n",
       "25%           1.000000                  1.000000          1.000000   \n",
       "50%           2.000000                  2.000000          1.000000   \n",
       "75%           3.000000                  2.000000          2.000000   \n",
       "max           4.000000                  3.000000          3.000000   \n",
       "\n",
       "       senior_citizen       tenure  monthly_charges  total_charges  \n",
       "count     7043.000000  7043.000000      7043.000000    7032.000000  \n",
       "mean         0.162147    32.371149        64.761692    2283.300441  \n",
       "std          0.368612    24.559481        30.090047    2266.771362  \n",
       "min          0.000000     0.000000        18.250000      18.800000  \n",
       "25%          0.000000     9.000000        35.500000     401.450000  \n",
       "50%          0.000000    29.000000        70.350000    1397.475000  \n",
       "75%          0.000000    55.000000        89.850000    3794.737500  \n",
       "max          1.000000    72.000000       118.750000    8684.800000  "
      ]
     },
     "execution_count": 7,
     "metadata": {},
     "output_type": "execute_result"
    }
   ],
   "source": [
    "# Describe dataframe\n",
    "df.describe()"
   ]
  },
  {
   "cell_type": "code",
   "execution_count": 8,
   "metadata": {},
   "outputs": [
    {
     "data": {
      "text/plain": [
       "No     5174\n",
       "Yes    1869\n",
       "Name: churn, dtype: int64"
      ]
     },
     "execution_count": 8,
     "metadata": {},
     "output_type": "execute_result"
    }
   ],
   "source": [
    "# Calculate the population rate of churn to consider in variable distribtuions.\n",
    "\n",
    "df.churn.value_counts(dropna = False)\n"
   ]
  },
  {
   "cell_type": "code",
   "execution_count": 9,
   "metadata": {},
   "outputs": [
    {
     "data": {
      "text/plain": [
       "(1869, 5174, 0.2653698707936959)"
      ]
     },
     "execution_count": 9,
     "metadata": {},
     "output_type": "execute_result"
    }
   ],
   "source": [
    "churn_yes = len(df.churn[df.churn == 'Yes'])\n",
    "churn_no = len(df.churn[df.churn == 'No'])\n",
    "churn_rate = churn_yes/(churn_yes + churn_no)\n",
    "churn_yes, churn_no, churn_rate"
   ]
  },
  {
   "cell_type": "code",
   "execution_count": 10,
   "metadata": {},
   "outputs": [
    {
     "data": {
      "image/png": "[encoded data removed]",
      "text/plain": [
       "<Figure size 432x288 with 1 Axes>"
      ]
     },
     "metadata": {
      "needs_background": "light"
     },
     "output_type": "display_data"
    }
   ],
   "source": [
    "# Gender Variable Distribution\n",
    "df.gender.value_counts(dropna = False).sort_index().plot(kind = \"bar\", alpha = .5)\n",
    "plt.title(\"Distribution of customer genders\")\n",
    "plt.grid(b= True, which = 'major')\n"
   ]
  },
  {
   "cell_type": "code",
   "execution_count": 11,
   "metadata": {
    "scrolled": true
   },
   "outputs": [
    {
     "data": {
      "text/plain": [
       "Male      3555\n",
       "Female    3488\n",
       "Name: gender, dtype: int64"
      ]
     },
     "execution_count": 11,
     "metadata": {},
     "output_type": "execute_result"
    }
   ],
   "source": [
    "df.gender.value_counts(dropna=False)"
   ]
  },
  {
   "cell_type": "code",
   "execution_count": 12,
   "metadata": {},
   "outputs": [
    {
     "data": {
      "text/plain": [
       "(0.504756495811444, 0.495243504188556)"
      ]
     },
     "execution_count": 12,
     "metadata": {},
     "output_type": "execute_result"
    }
   ],
   "source": [
    "p_male = (df.gender == 'Male').sum()/len(df.gender)\n",
    "p_female = (df.gender == 'Female').sum()/len(df.gender)\n",
    "p_male, p_female"
   ]
  },
  {
   "cell_type": "code",
   "execution_count": 13,
   "metadata": {},
   "outputs": [
    {
     "data": {
      "text/plain": [
       "(0.26920871559633025, 0.2616033755274262)"
      ]
     },
     "execution_count": 13,
     "metadata": {},
     "output_type": "execute_result"
    }
   ],
   "source": [
    "# View the proportions of male and female of customers who have churned.\n",
    "# len(df[(df.churn == 'Yes') & (df.gender == 'Male')])/len(df.churn[df.churn == 'Yes'])\n",
    "\n",
    "p_female_churn = len(df[(df.churn == 'Yes') & (df.gender == 'Female')])/3488\n",
    "p_male_churn = len(df[(df.churn == 'Yes') & (df.gender == 'Male')])/3555\n",
    "p_female_churn, p_male_churn"
   ]
  },
  {
   "cell_type": "markdown",
   "metadata": {},
   "source": [
    "Gender distribution: The distribution of gender looks almost even with male: 50%, female: 50%\n",
    "The rate of churn for males and females is similar to that of the whole population"
   ]
  },
  {
   "cell_type": "code",
   "execution_count": 14,
   "metadata": {},
   "outputs": [
    {
     "data": {
      "image/png": "[encoded data removed]",
      "text/plain": [
       "<Figure size 432x288 with 1 Axes>"
      ]
     },
     "metadata": {
      "needs_background": "light"
     },
     "output_type": "display_data"
    }
   ],
   "source": [
    "# Senior Citizen Variable\n",
    "df.senior_citizen.value_counts(dropna = False).sort_index().plot(kind = \"bar\", alpha = .5)\n",
    "plt.title(\"Distribution of senior citizens\")\n",
    "plt.grid(b= True, which = 'major')\n"
   ]
  },
  {
   "cell_type": "code",
   "execution_count": 15,
   "metadata": {},
   "outputs": [],
   "source": [
    "#Curious to see what proportion of senior citizens churn "
   ]
  },
  {
   "cell_type": "code",
   "execution_count": 16,
   "metadata": {},
   "outputs": [
    {
     "data": {
      "text/plain": [
       "No     5174\n",
       "Yes    1869\n",
       "Name: churn, dtype: int64"
      ]
     },
     "execution_count": 16,
     "metadata": {},
     "output_type": "execute_result"
    }
   ],
   "source": [
    "df.churn.value_counts(dropna = False)"
   ]
  },
  {
   "cell_type": "code",
   "execution_count": 17,
   "metadata": {},
   "outputs": [
    {
     "data": {
      "text/plain": [
       "0    5901\n",
       "1    1142\n",
       "Name: senior_citizen, dtype: int64"
      ]
     },
     "execution_count": 17,
     "metadata": {},
     "output_type": "execute_result"
    }
   ],
   "source": [
    " df.senior_citizen.value_counts(dropna=False)"
   ]
  },
  {
   "cell_type": "code",
   "execution_count": 18,
   "metadata": {},
   "outputs": [
    {
     "data": {
      "text/plain": [
       "476"
      ]
     },
     "execution_count": 18,
     "metadata": {},
     "output_type": "execute_result"
    }
   ],
   "source": [
    "len(df[(df.churn == 'Yes') & (df.senior_citizen == 1)])"
   ]
  },
  {
   "cell_type": "code",
   "execution_count": 19,
   "metadata": {},
   "outputs": [
    {
     "data": {
      "text/plain": [
       "(0.4168126094570928, 0.2546816479400749)"
      ]
     },
     "execution_count": 19,
     "metadata": {},
     "output_type": "execute_result"
    }
   ],
   "source": [
    "476/1142, 476/1869"
   ]
  },
  {
   "cell_type": "markdown",
   "metadata": {},
   "source": [
    "***Take Away***: Senior citizens churn at twice the rate of the whole population. They also make up a quarter of customers who churned."
   ]
  },
  {
   "cell_type": "code",
   "execution_count": 20,
   "metadata": {},
   "outputs": [],
   "source": [
    "# Partner Distribution"
   ]
  },
  {
   "cell_type": "code",
   "execution_count": 21,
   "metadata": {},
   "outputs": [
    {
     "data": {
      "text/plain": [
       "No     3641\n",
       "Yes    3402\n",
       "Name: partner, dtype: int64"
      ]
     },
     "execution_count": 21,
     "metadata": {},
     "output_type": "execute_result"
    }
   ],
   "source": [
    "df.partner.value_counts(dropna = False)"
   ]
  },
  {
   "cell_type": "code",
   "execution_count": 22,
   "metadata": {},
   "outputs": [
    {
     "data": {
      "image/png": "[encoded data removed]",
      "text/plain": [
       "<Figure size 432x288 with 1 Axes>"
      ]
     },
     "metadata": {
      "needs_background": "light"
     },
     "output_type": "display_data"
    }
   ],
   "source": [
    "# bar plot\n",
    "df.partner.value_counts(dropna = False).sort_index().plot(kind = \"bar\", alpha = .5)\n",
    "plt.title(\"Distribution of customers who have partners\")\n",
    "plt.grid(b= True, which = 'major')\n"
   ]
  },
  {
   "cell_type": "code",
   "execution_count": 23,
   "metadata": {},
   "outputs": [
    {
     "data": {
      "text/plain": [
       "(0.1966490299823633, 0.32957978577313923)"
      ]
     },
     "execution_count": 23,
     "metadata": {},
     "output_type": "execute_result"
    }
   ],
   "source": [
    "p_partner_churn = len(df[(df.churn == 'Yes') & (df.partner == 'Yes')])/len(df[df.partner == 'Yes'])\n",
    "p_no_partner_churn = len(df[(df.churn == 'Yes') & (df.partner == 'No')])/len(df[df.partner == 'No'])\n",
    "p_partner_churn, p_no_partner_churn\n",
    "\n"
   ]
  },
  {
   "cell_type": "markdown",
   "metadata": {},
   "source": [
    "***Take Aways:*** The distribution of customers who have partners and those who do not is almost even. The likelihood that some one churns who does not have a partner is higher than the population churn rate. Those who do have partner are lower than the population."
   ]
  },
  {
   "cell_type": "code",
   "execution_count": 24,
   "metadata": {},
   "outputs": [],
   "source": [
    "# Dependendents Variable Distribution"
   ]
  },
  {
   "cell_type": "code",
   "execution_count": 25,
   "metadata": {},
   "outputs": [
    {
     "data": {
      "text/plain": [
       "No     4933\n",
       "Yes    2110\n",
       "Name: dependents, dtype: int64"
      ]
     },
     "execution_count": 25,
     "metadata": {},
     "output_type": "execute_result"
    }
   ],
   "source": [
    "df.dependents.value_counts(dropna = False)"
   ]
  },
  {
   "cell_type": "code",
   "execution_count": 26,
   "metadata": {},
   "outputs": [
    {
     "data": {
      "image/png": "[encoded data removed]",
      "text/plain": [
       "<Figure size 432x288 with 1 Axes>"
      ]
     },
     "metadata": {
      "needs_background": "light"
     },
     "output_type": "display_data"
    }
   ],
   "source": [
    "# bar plot\n",
    "df.dependents.value_counts(dropna = False).sort_index().plot(kind = \"bar\", alpha = .5)\n",
    "plt.title(\"Distribution of customers who have dependents\")\n",
    "plt.grid(b= True, which = 'major')\n"
   ]
  },
  {
   "cell_type": "code",
   "execution_count": 27,
   "metadata": {},
   "outputs": [
    {
     "data": {
      "text/plain": [
       "(0.15450236966824646, 0.3127914048246503)"
      ]
     },
     "execution_count": 27,
     "metadata": {},
     "output_type": "execute_result"
    }
   ],
   "source": [
    "p_dependents_churn = len(df[(df.churn == 'Yes') & (df.dependents == 'Yes')])/len(df[df.dependents == 'Yes'])\n",
    "p_no_dependents_churn = len(df[(df.churn == 'Yes') & (df.dependents == 'No')])/len(df[df.dependents == 'No'])\n",
    "p_dependents_churn, p_no_dependents_churn\n"
   ]
  },
  {
   "cell_type": "markdown",
   "metadata": {},
   "source": [
    "***Take Aways:*** The amount of customers who have dependents is lower than those who do not. The likelihood that some one churns who does not have dependents is higher than the population churn rate. Those who do have dependents are lower than the population."
   ]
  },
  {
   "cell_type": "code",
   "execution_count": 28,
   "metadata": {},
   "outputs": [],
   "source": [
    "# Tenure Distribution"
   ]
  },
  {
   "cell_type": "code",
   "execution_count": 29,
   "metadata": {},
   "outputs": [],
   "source": [
    "# Create a new column - Tenure years that will be their tenure amount (months) divided by 12.\n",
    "df['tenure_years'] = df.tenure/12\n"
   ]
  },
  {
   "cell_type": "code",
   "execution_count": 30,
   "metadata": {},
   "outputs": [
    {
     "data": {
      "text/plain": [
       "(-0.007, 0.5]    1481\n",
       "(0.5, 1.0]        705\n",
       "(1.0, 1.5]        548\n",
       "(1.5, 2.0]        476\n",
       "(2.0, 2.5]        431\n",
       "(2.5, 3.0]        401\n",
       "(3.0, 3.5]        379\n",
       "(3.5, 4.0]        383\n",
       "(4.0, 4.5]        420\n",
       "(4.5, 5.0]        412\n",
       "(5.0, 5.5]        463\n",
       "(5.5, 6.0]        944\n",
       "Name: tenure_years, dtype: int64"
      ]
     },
     "execution_count": 30,
     "metadata": {},
     "output_type": "execute_result"
    }
   ],
   "source": [
    "df.tenure_years.value_counts(bins = 12, dropna = False).sort_index()"
   ]
  },
  {
   "cell_type": "code",
   "execution_count": 31,
   "metadata": {},
   "outputs": [
    {
     "data": {
      "text/plain": [
       "<matplotlib.axes._subplots.AxesSubplot at 0x1a1ec2d0f0>"
      ]
     },
     "execution_count": 31,
     "metadata": {},
     "output_type": "execute_result"
    },
    {
     "data": {
      "image/png": "[encoded data removed]",
      "text/plain": [
       "<Figure size 432x288 with 1 Axes>"
      ]
     },
     "metadata": {
      "needs_background": "light"
     },
     "output_type": "display_data"
    }
   ],
   "source": [
    "sns.distplot(df.tenure_years)\n",
    "sns.distplot(df.tenure_years[df.churn == 'Yes'])"
   ]
  },
  {
   "cell_type": "code",
   "execution_count": 32,
   "metadata": {},
   "outputs": [
    {
     "data": {
      "text/plain": [
       "count    1869.000000\n",
       "mean        1.498261\n",
       "std         1.627594\n",
       "min         0.083333\n",
       "25%         0.166667\n",
       "50%         0.833333\n",
       "75%         2.416667\n",
       "max         6.000000\n",
       "Name: tenure_years, dtype: float64"
      ]
     },
     "execution_count": 32,
     "metadata": {},
     "output_type": "execute_result"
    }
   ],
   "source": [
    "df.tenure_years[df.churn == 'Yes'].describe()"
   ]
  },
  {
   "cell_type": "code",
   "execution_count": 33,
   "metadata": {},
   "outputs": [
    {
     "data": {
      "text/plain": [
       "count    7043.000000\n",
       "mean        2.697596\n",
       "std         2.046623\n",
       "min         0.000000\n",
       "25%         0.750000\n",
       "50%         2.416667\n",
       "75%         4.583333\n",
       "max         6.000000\n",
       "Name: tenure_years, dtype: float64"
      ]
     },
     "execution_count": 33,
     "metadata": {},
     "output_type": "execute_result"
    }
   ],
   "source": [
    "df.tenure_years.describe()"
   ]
  },
  {
   "cell_type": "markdown",
   "metadata": {},
   "source": [
    "***Take Aways:*** The mean tenure for customers who churn is 1.5 with a standard deviation of 1.6. The mean of the population is 2.69 years with a standard deviation of 2.046. There is overlap around the centers of each these means and standard deviation. This would makes me think that that the average customer as a higher probability to churn."
   ]
  },
  {
   "cell_type": "code",
   "execution_count": 34,
   "metadata": {},
   "outputs": [],
   "source": [
    "# Phone Service Distribution"
   ]
  },
  {
   "cell_type": "code",
   "execution_count": 35,
   "metadata": {},
   "outputs": [
    {
     "data": {
      "text/plain": [
       "Yes    6361\n",
       "No      682\n",
       "Name: phone_service, dtype: int64"
      ]
     },
     "execution_count": 35,
     "metadata": {},
     "output_type": "execute_result"
    }
   ],
   "source": [
    "df.phone_service.value_counts(dropna = False)"
   ]
  },
  {
   "cell_type": "code",
   "execution_count": 36,
   "metadata": {},
   "outputs": [],
   "source": [
    "# Majority of customers have phone service."
   ]
  },
  {
   "cell_type": "code",
   "execution_count": 37,
   "metadata": {},
   "outputs": [
    {
     "data": {
      "image/png": "[encoded data removed]",
      "text/plain": [
       "<Figure size 432x288 with 1 Axes>"
      ]
     },
     "metadata": {
      "needs_background": "light"
     },
     "output_type": "display_data"
    }
   ],
   "source": [
    "# bar plot\n",
    "df.phone_service.value_counts(dropna = False).sort_index().plot(kind = \"bar\", alpha = .5)\n",
    "plt.title(\"Distribution of customers who have phone service\")\n",
    "plt.grid(b= True, which = 'major')\n"
   ]
  },
  {
   "cell_type": "code",
   "execution_count": 38,
   "metadata": {},
   "outputs": [
    {
     "data": {
      "text/plain": [
       "(0.2670963684955196, 0.24926686217008798)"
      ]
     },
     "execution_count": 38,
     "metadata": {},
     "output_type": "execute_result"
    }
   ],
   "source": [
    "p_phone_service_churn = len(df[(df.churn == 'Yes') & (df.phone_service == 'Yes')])/len(df[df.phone_service == 'Yes'])\n",
    "p_no_phone_service_churn = len(df[(df.churn == 'Yes') & (df.phone_service == 'No')])/len(df[df.phone_service == 'No'])\n",
    "p_phone_service_churn, p_no_phone_service_churn"
   ]
  },
  {
   "cell_type": "markdown",
   "metadata": {},
   "source": [
    "***Take Aways:*** whether a customer has phone service or not does not seem to have an affect on churn."
   ]
  },
  {
   "cell_type": "code",
   "execution_count": 39,
   "metadata": {},
   "outputs": [],
   "source": [
    "# Multiple-lines distribution"
   ]
  },
  {
   "cell_type": "code",
   "execution_count": 40,
   "metadata": {},
   "outputs": [
    {
     "data": {
      "text/plain": [
       "No                  3390\n",
       "Yes                 2971\n",
       "No phone service     682\n",
       "Name: multiple_lines, dtype: int64"
      ]
     },
     "execution_count": 40,
     "metadata": {},
     "output_type": "execute_result"
    }
   ],
   "source": [
    "df.multiple_lines.value_counts(dropna = False)"
   ]
  },
  {
   "cell_type": "code",
   "execution_count": 41,
   "metadata": {},
   "outputs": [
    {
     "data": {
      "text/plain": [
       "(0.46706492689828644, 0.5329350731017136)"
      ]
     },
     "execution_count": 41,
     "metadata": {},
     "output_type": "execute_result"
    }
   ],
   "source": [
    "phone_service_customers = len(df.multiple_lines[df.phone_service == 'Yes'])\n",
    "multiple_lines_yes = len(df.multiple_lines[df.multiple_lines == 'Yes'])\n",
    "multiple_lines_no = len(df.multiple_lines[df.multiple_lines == 'No'])\n",
    "\n",
    "prop_phone_service_multiple_lines = multiple_lines_yes/phone_service_customers\n",
    "\n",
    "prop_phone_service_one_line = multiple_lines_no/phone_service_customers\n",
    "\n",
    "prop_phone_service_multiple_lines, prop_phone_service_one_line\n"
   ]
  },
  {
   "cell_type": "code",
   "execution_count": 42,
   "metadata": {},
   "outputs": [
    {
     "data": {
      "image/png": "[encoded data removed]",
      "text/plain": [
       "<Figure size 432x288 with 1 Axes>"
      ]
     },
     "metadata": {
      "needs_background": "light"
     },
     "output_type": "display_data"
    }
   ],
   "source": [
    "# bar plot\n",
    "df.multiple_lines.value_counts(dropna = False).sort_index().plot(kind = \"bar\", alpha = .5)\n",
    "plt.title(\"Distribution of customers who mulitple phone lines\")\n",
    "plt.grid(b= True, which = 'major')\n"
   ]
  },
  {
   "cell_type": "code",
   "execution_count": 43,
   "metadata": {},
   "outputs": [
    {
     "data": {
      "text/plain": [
       "(0.286098956580276, 0.2504424778761062)"
      ]
     },
     "execution_count": 43,
     "metadata": {},
     "output_type": "execute_result"
    }
   ],
   "source": [
    "p_multiple_lines_churn = len(df[(df.churn == 'Yes') & (df.multiple_lines == 'Yes')])/len(df[df.multiple_lines == 'Yes'])\n",
    "p_single_line_churn = len(df[(df.churn == 'Yes') & (df.multiple_lines == 'No')])/len(df[df.multiple_lines == 'No'])\n",
    "p_multiple_lines_churn, p_single_line_churn\n"
   ]
  },
  {
   "cell_type": "markdown",
   "metadata": {},
   "source": [
    "***Take Aways:*** The rate of churn for customers who have multiple lines, and those who don't have a churn rate that is similar to the overall population."
   ]
  },
  {
   "cell_type": "code",
   "execution_count": 44,
   "metadata": {},
   "outputs": [],
   "source": [
    "# Online-Security Variable Distribution:"
   ]
  },
  {
   "cell_type": "code",
   "execution_count": 45,
   "metadata": {},
   "outputs": [
    {
     "data": {
      "text/plain": [
       "No                     3498\n",
       "Yes                    2019\n",
       "No internet service    1526\n",
       "Name: online_security, dtype: int64"
      ]
     },
     "execution_count": 45,
     "metadata": {},
     "output_type": "execute_result"
    }
   ],
   "source": [
    "df.online_security.value_counts(dropna = False)"
   ]
  },
  {
   "cell_type": "code",
   "execution_count": 46,
   "metadata": {},
   "outputs": [
    {
     "data": {
      "text/plain": [
       "(0.36595976073953235, 0.6340402392604676)"
      ]
     },
     "execution_count": 46,
     "metadata": {},
     "output_type": "execute_result"
    }
   ],
   "source": [
    "internet_service_customers = len(df.online_security) - len(df.online_security[df.online_security == 'No internet service'])\n",
    "online_security_yes = len(df.online_security[df.online_security == 'Yes'])\n",
    "online_security_no = len(df.online_security[df.online_security == 'No'])\n",
    "\n",
    "prop_online_security_yes = online_security_yes/internet_service_customers\n",
    "\n",
    "prop_online_security_no = online_security_no/internet_service_customers\n",
    "\n",
    "prop_online_security_yes, prop_online_security_no\n"
   ]
  },
  {
   "cell_type": "code",
   "execution_count": 47,
   "metadata": {},
   "outputs": [
    {
     "data": {
      "image/png": "[encoded data removed]",
      "text/plain": [
       "<Figure size 432x288 with 1 Axes>"
      ]
     },
     "metadata": {
      "needs_background": "light"
     },
     "output_type": "display_data"
    }
   ],
   "source": [
    "# bar plot\n",
    "df.online_security.value_counts(dropna = False).sort_index().plot(kind = \"bar\", alpha = .5)\n",
    "plt.title(\"Distribution of customers who have online security\")\n",
    "plt.grid(b= True, which = 'major')\n"
   ]
  },
  {
   "cell_type": "code",
   "execution_count": 48,
   "metadata": {},
   "outputs": [
    {
     "data": {
      "text/plain": [
       "(0.14611193660227836, 0.4176672384219554)"
      ]
     },
     "execution_count": 48,
     "metadata": {},
     "output_type": "execute_result"
    }
   ],
   "source": [
    "p_online_security_churn = len(df[(df.churn == 'Yes') & (df.online_security == 'Yes')])/len(df[df.online_security == 'Yes'])\n",
    "p_no_online_security_churn = len(df[(df.churn == 'Yes') & (df.online_security == 'No')])/len(df[df.online_security == 'No'])\n",
    "p_online_security_churn, p_no_online_security_churn\n"
   ]
  },
  {
   "cell_type": "markdown",
   "metadata": {},
   "source": [
    "***Take Aways:*** The rate of churn for customers who do not have online security have a higher rate of churn than the whole population."
   ]
  },
  {
   "cell_type": "code",
   "execution_count": 49,
   "metadata": {},
   "outputs": [],
   "source": [
    "# Online backup variable distribution:"
   ]
  },
  {
   "cell_type": "code",
   "execution_count": 50,
   "metadata": {},
   "outputs": [
    {
     "data": {
      "text/plain": [
       "No                     3088\n",
       "Yes                    2429\n",
       "No internet service    1526\n",
       "Name: online_backup, dtype: int64"
      ]
     },
     "execution_count": 50,
     "metadata": {},
     "output_type": "execute_result"
    }
   ],
   "source": [
    "df.online_backup.value_counts(dropna = False)"
   ]
  },
  {
   "cell_type": "code",
   "execution_count": 51,
   "metadata": {},
   "outputs": [
    {
     "data": {
      "text/plain": [
       "(0.44027551205365234, 0.5597244879463477)"
      ]
     },
     "execution_count": 51,
     "metadata": {},
     "output_type": "execute_result"
    }
   ],
   "source": [
    "internet_service_customers = len(df.online_backup) - len(df.online_backup[df.online_backup == 'No internet service'])\n",
    "online_backup_yes = len(df.online_backup[df.online_backup == 'Yes'])\n",
    "online_backup_no = len(df.online_backup[df.online_backup == 'No'])\n",
    "\n",
    "prop_online_backup_yes = online_backup_yes/internet_service_customers\n",
    "\n",
    "prop_online_backup_no = online_backup_no/internet_service_customers\n",
    "\n",
    "prop_online_backup_yes, prop_online_backup_no\n"
   ]
  },
  {
   "cell_type": "code",
   "execution_count": 52,
   "metadata": {},
   "outputs": [
    {
     "data": {
      "image/png": "[encoded data removed]",
      "text/plain": [
       "<Figure size 432x288 with 1 Axes>"
      ]
     },
     "metadata": {
      "needs_background": "light"
     },
     "output_type": "display_data"
    }
   ],
   "source": [
    "# bar plot\n",
    "df.online_backup.value_counts(dropna = False).sort_index().plot(kind = \"bar\", alpha = .5)\n",
    "plt.title(\"Distribution of customers who have online backup\")\n",
    "plt.grid(b= True, which = 'major')\n"
   ]
  },
  {
   "cell_type": "code",
   "execution_count": 53,
   "metadata": {},
   "outputs": [
    {
     "data": {
      "text/plain": [
       "(0.21531494442157267, 0.39928756476683935)"
      ]
     },
     "execution_count": 53,
     "metadata": {},
     "output_type": "execute_result"
    }
   ],
   "source": [
    "p_online_backup_churn = len(df[(df.churn == 'Yes') & (df.online_backup == 'Yes')])/len(df[df.online_backup == 'Yes'])\n",
    "p_no_online_backup_churn = len(df[(df.churn == 'Yes') & (df.online_backup == 'No')])/len(df[df.online_backup == 'No'])\n",
    "p_online_backup_churn, p_no_online_backup_churn\n",
    "\n"
   ]
  },
  {
   "cell_type": "markdown",
   "metadata": {},
   "source": [
    "***Take Aways:*** The rate of churn for customers who have online backup is higher than the rate of churn for the population. The rate of churn for customers who do not have online backup is lower than the population."
   ]
  },
  {
   "cell_type": "code",
   "execution_count": 54,
   "metadata": {},
   "outputs": [
    {
     "data": {
      "text/plain": [
       "No                     3095\n",
       "Yes                    2422\n",
       "No internet service    1526\n",
       "Name: device_protection, dtype: int64"
      ]
     },
     "execution_count": 54,
     "metadata": {},
     "output_type": "execute_result"
    }
   ],
   "source": [
    "# Device protection Distribution:\n",
    "df.device_protection.value_counts(dropna=False)"
   ]
  },
  {
   "cell_type": "code",
   "execution_count": 55,
   "metadata": {},
   "outputs": [
    {
     "data": {
      "text/plain": [
       "(0.4390067065434113, 0.5609932934565888)"
      ]
     },
     "execution_count": 55,
     "metadata": {},
     "output_type": "execute_result"
    }
   ],
   "source": [
    "internet_service_customers = len(df.device_protection) - len(df.device_protection[df.device_protection == 'No internet service'])\n",
    "device_protection_yes = len(df.device_protection[df.device_protection == 'Yes'])\n",
    "device_protection_no = len(df.device_protection[df.device_protection == 'No'])\n",
    "\n",
    "prop_device_protection_yes = device_protection_yes/internet_service_customers\n",
    "\n",
    "prop_device_protection_no = device_protection_no/internet_service_customers\n",
    "\n",
    "prop_device_protection_yes, prop_device_protection_no\n"
   ]
  },
  {
   "cell_type": "code",
   "execution_count": 56,
   "metadata": {},
   "outputs": [
    {
     "data": {
      "image/png": "[encoded data removed]",
      "text/plain": [
       "<Figure size 432x288 with 1 Axes>"
      ]
     },
     "metadata": {
      "needs_background": "light"
     },
     "output_type": "display_data"
    }
   ],
   "source": [
    "# bar plot\n",
    "df.device_protection.value_counts(dropna = False).sort_index().plot(kind = \"bar\", alpha = .5)\n",
    "plt.title(\"Distribution of customers who have device protection\")\n",
    "plt.grid(b= True, which = 'major')\n"
   ]
  },
  {
   "cell_type": "code",
   "execution_count": 57,
   "metadata": {},
   "outputs": [
    {
     "data": {
      "text/plain": [
       "(0.2250206440957886, 0.3912762520193861)"
      ]
     },
     "execution_count": 57,
     "metadata": {},
     "output_type": "execute_result"
    }
   ],
   "source": [
    "p_device_protection_churn = len(df[(df.churn == 'Yes') & (df.device_protection == 'Yes')])/len(df[df.device_protection == 'Yes'])\n",
    "p_no_device_protection_churn = len(df[(df.churn == 'Yes') & (df.device_protection == 'No')])/len(df[df.device_protection == 'No'])\n",
    "p_device_protection_churn, p_no_device_protection_churn\n"
   ]
  },
  {
   "cell_type": "markdown",
   "metadata": {},
   "source": [
    "***Take Aways:*** The rate of churn for customers who do not have device protection is higher than the rate of churn for the population."
   ]
  },
  {
   "cell_type": "code",
   "execution_count": 58,
   "metadata": {},
   "outputs": [
    {
     "data": {
      "text/plain": [
       "No                     3473\n",
       "Yes                    2044\n",
       "No internet service    1526\n",
       "Name: tech_support, dtype: int64"
      ]
     },
     "execution_count": 58,
     "metadata": {},
     "output_type": "execute_result"
    }
   ],
   "source": [
    "# Tech Support Variable Distribution:\n",
    "df.tech_support.value_counts(dropna = False)"
   ]
  },
  {
   "cell_type": "code",
   "execution_count": 59,
   "metadata": {},
   "outputs": [
    {
     "data": {
      "text/plain": [
       "(0.37049120899039334, 0.6295087910096067)"
      ]
     },
     "execution_count": 59,
     "metadata": {},
     "output_type": "execute_result"
    }
   ],
   "source": [
    "internet_service_customers = len(df.tech_support) - len(df.tech_support[df.tech_support == 'No internet service'])\n",
    "tech_support_yes = len(df.tech_support[df.tech_support == 'Yes'])\n",
    "tech_support_no = len(df.tech_support[df.tech_support == 'No'])\n",
    "\n",
    "prop_tech_support_yes = tech_support_yes/internet_service_customers\n",
    "\n",
    "prop_tech_support_no = tech_support_no/internet_service_customers\n",
    "\n",
    "prop_tech_support_yes, prop_tech_support_no\n"
   ]
  },
  {
   "cell_type": "code",
   "execution_count": 60,
   "metadata": {},
   "outputs": [
    {
     "data": {
      "image/png": "[encoded data removed]",
      "text/plain": [
       "<Figure size 432x288 with 1 Axes>"
      ]
     },
     "metadata": {
      "needs_background": "light"
     },
     "output_type": "display_data"
    }
   ],
   "source": [
    "# bar plot\n",
    "df.tech_support.value_counts(dropna = False).sort_index().plot(kind = \"bar\", alpha = .5)\n",
    "plt.title(\"Distribution of customers who have tech_support\")\n",
    "plt.grid(b= True, which = 'major')\n"
   ]
  },
  {
   "cell_type": "code",
   "execution_count": 61,
   "metadata": {},
   "outputs": [
    {
     "data": {
      "text/plain": [
       "(0.15166340508806261, 0.4163547365390153)"
      ]
     },
     "execution_count": 61,
     "metadata": {},
     "output_type": "execute_result"
    }
   ],
   "source": [
    "p_tech_support_churn = len(df[(df.churn == 'Yes') & (df.tech_support == 'Yes')])/len(df[df.tech_support == 'Yes'])\n",
    "p_no_tech_support_churn = len(df[(df.churn == 'Yes') & (df.tech_support == 'No')])/len(df[df.tech_support == 'No'])\n",
    "p_tech_support_churn, p_no_tech_support_churn\n"
   ]
  },
  {
   "cell_type": "markdown",
   "metadata": {},
   "source": [
    "***Take Aways:*** The rate of churn for customers who do not have tech support is higher than the population rate of churn."
   ]
  },
  {
   "cell_type": "code",
   "execution_count": 62,
   "metadata": {},
   "outputs": [
    {
     "data": {
      "text/plain": [
       "No                     2810\n",
       "Yes                    2707\n",
       "No internet service    1526\n",
       "Name: streaming_tv, dtype: int64"
      ]
     },
     "execution_count": 62,
     "metadata": {},
     "output_type": "execute_result"
    }
   ],
   "source": [
    "# Streaming tv variable distribution:\n",
    "df.streaming_tv.value_counts(dropna=False)"
   ]
  },
  {
   "cell_type": "code",
   "execution_count": 63,
   "metadata": {},
   "outputs": [
    {
     "data": {
      "text/plain": [
       "(0.4906652166032264, 0.5093347833967736)"
      ]
     },
     "execution_count": 63,
     "metadata": {},
     "output_type": "execute_result"
    }
   ],
   "source": [
    "internet_service_customers = len(df.streaming_tv) - len(df.streaming_tv[df.streaming_tv == 'No internet service'])\n",
    "streaming_tv_yes = len(df.streaming_tv[df.streaming_tv == 'Yes'])\n",
    "streaming_tv_no = len(df.streaming_tv[df.streaming_tv == 'No'])\n",
    "\n",
    "prop_streaming_tv_yes = streaming_tv_yes/internet_service_customers\n",
    "\n",
    "prop_streaming_tv_no = streaming_tv_no/internet_service_customers\n",
    "\n",
    "prop_streaming_tv_yes, prop_streaming_tv_no\n"
   ]
  },
  {
   "cell_type": "code",
   "execution_count": 64,
   "metadata": {},
   "outputs": [
    {
     "data": {
      "image/png": "[encoded data removed]",
      "text/plain": [
       "<Figure size 432x288 with 1 Axes>"
      ]
     },
     "metadata": {
      "needs_background": "light"
     },
     "output_type": "display_data"
    }
   ],
   "source": [
    "# bar plot\n",
    "df.streaming_tv.value_counts(dropna = False).sort_index().plot(kind = \"bar\", alpha = .5)\n",
    "plt.title(\"Distribution of customers who have streaming_tv\")\n",
    "plt.grid(b= True, which = 'major')\n"
   ]
  },
  {
   "cell_type": "code",
   "execution_count": 65,
   "metadata": {},
   "outputs": [
    {
     "data": {
      "text/plain": [
       "(0.30070188400443293, 0.33523131672597867)"
      ]
     },
     "execution_count": 65,
     "metadata": {},
     "output_type": "execute_result"
    }
   ],
   "source": [
    "p_streaming_tv_churn = len(df[(df.churn == 'Yes') & (df.streaming_tv == 'Yes')])/len(df[df.streaming_tv == 'Yes'])\n",
    "p_no_streaming_tv_churn = len(df[(df.churn == 'Yes') & (df.streaming_tv == 'No')])/len(df[df.streaming_tv == 'No'])\n",
    "p_streaming_tv_churn, p_no_streaming_tv_churn\n"
   ]
  },
  {
   "cell_type": "markdown",
   "metadata": {},
   "source": [
    "***Take Aways:*** The rate of churn for customers who have streaming_tv and those who do not are similar. They are both close to the population rate of churn compared to other variables."
   ]
  },
  {
   "cell_type": "code",
   "execution_count": 66,
   "metadata": {},
   "outputs": [
    {
     "data": {
      "text/plain": [
       "No                     2785\n",
       "Yes                    2732\n",
       "No internet service    1526\n",
       "Name: streaming_movies, dtype: int64"
      ]
     },
     "execution_count": 66,
     "metadata": {},
     "output_type": "execute_result"
    }
   ],
   "source": [
    "# Streaming_movies Variable Distribution:\n",
    "df.streaming_movies.value_counts(dropna = False)"
   ]
  },
  {
   "cell_type": "code",
   "execution_count": 67,
   "metadata": {},
   "outputs": [
    {
     "data": {
      "text/plain": [
       "(0.49519666485408737, 0.5048033351459126)"
      ]
     },
     "execution_count": 67,
     "metadata": {},
     "output_type": "execute_result"
    }
   ],
   "source": [
    "internet_service_customers = len(df.streaming_movies) - len(df.streaming_tv[df.streaming_movies == 'No internet service'])\n",
    "streaming_movies_yes = len(df.streaming_movies[df.streaming_movies == 'Yes'])\n",
    "streaming_movies_no = len(df.streaming_movies[df.streaming_movies == 'No'])\n",
    "\n",
    "prop_streaming_movies_yes = streaming_movies_yes/internet_service_customers\n",
    "\n",
    "prop_streaming_movies_no = streaming_movies_no/internet_service_customers\n",
    "\n",
    "prop_streaming_movies_yes, prop_streaming_movies_no\n"
   ]
  },
  {
   "cell_type": "code",
   "execution_count": 68,
   "metadata": {},
   "outputs": [
    {
     "data": {
      "image/png": "[encoded data removed]",
      "text/plain": [
       "<Figure size 432x288 with 1 Axes>"
      ]
     },
     "metadata": {
      "needs_background": "light"
     },
     "output_type": "display_data"
    }
   ],
   "source": [
    "# bar plot\n",
    "df.streaming_movies.value_counts(dropna = False).sort_index().plot(kind = \"bar\", alpha = .5)\n",
    "plt.title(\"Distribution of customers who have streaming_movies\")\n",
    "plt.grid(b= True, which = 'major')\n"
   ]
  },
  {
   "cell_type": "code",
   "execution_count": 69,
   "metadata": {},
   "outputs": [
    {
     "data": {
      "text/plain": [
       "(0.29941434846266474, 0.33680430879712747)"
      ]
     },
     "execution_count": 69,
     "metadata": {},
     "output_type": "execute_result"
    }
   ],
   "source": [
    "p_streaming_movies_churn = len(df[(df.churn == 'Yes') & (df.streaming_movies == 'Yes')])/len(df[df.streaming_movies == 'Yes'])\n",
    "p_no_streaming_movies_churn = len(df[(df.churn == 'Yes') & (df.streaming_movies == 'No')])/len(df[df.streaming_movies == 'No'])\n",
    "p_streaming_movies_churn, p_no_streaming_movies_churn\n"
   ]
  },
  {
   "cell_type": "markdown",
   "metadata": {},
   "source": [
    "***Take Aways:*** The rate of churn for streaming_movies does not differ much from the population churn rate as compared with other variables."
   ]
  },
  {
   "cell_type": "code",
   "execution_count": 70,
   "metadata": {},
   "outputs": [
    {
     "data": {
      "text/plain": [
       "Yes    4171\n",
       "No     2872\n",
       "Name: paperless_billing, dtype: int64"
      ]
     },
     "execution_count": 70,
     "metadata": {},
     "output_type": "execute_result"
    }
   ],
   "source": [
    "# Paperless Billing Distribution:\n",
    "df.paperless_billing.value_counts(dropna=False)"
   ]
  },
  {
   "cell_type": "code",
   "execution_count": 71,
   "metadata": {},
   "outputs": [
    {
     "data": {
      "image/png": "[encoded data removed]",
      "text/plain": [
       "<Figure size 432x288 with 1 Axes>"
      ]
     },
     "metadata": {
      "needs_background": "light"
     },
     "output_type": "display_data"
    }
   ],
   "source": [
    "# bar plot\n",
    "df.paperless_billing.value_counts(dropna = False).sort_index().plot(kind = \"bar\", alpha = .5)\n",
    "plt.title(\"Distribution of customers who have paperless billing\")\n",
    "plt.grid(b= True, which = 'major')\n"
   ]
  },
  {
   "cell_type": "code",
   "execution_count": 72,
   "metadata": {},
   "outputs": [
    {
     "data": {
      "text/plain": [
       "(0.33565092304003835, 0.1633008356545961)"
      ]
     },
     "execution_count": 72,
     "metadata": {},
     "output_type": "execute_result"
    }
   ],
   "source": [
    "p_paperless_billing_churn = len(df[(df.churn == 'Yes') & (df.paperless_billing == 'Yes')])/len(df[df.paperless_billing == 'Yes'])\n",
    "p_no_paperless_billing_churn = len(df[(df.churn == 'Yes') & (df.paperless_billing == 'No')])/len(df[df.paperless_billing == 'No'])\n",
    "p_paperless_billing_churn, p_no_paperless_billing_churn\n"
   ]
  },
  {
   "cell_type": "markdown",
   "metadata": {},
   "source": [
    "***Take Aways:*** The rate of churn for paperless_billing does not differ much from the population churn rate as compared with other variables."
   ]
  },
  {
   "cell_type": "code",
   "execution_count": 73,
   "metadata": {},
   "outputs": [
    {
     "data": {
      "text/plain": [
       "(18.148999999999997, 28.3]    1606\n",
       "(28.3, 38.35]                  191\n",
       "(38.35, 48.4]                  365\n",
       "(48.4, 58.45]                  640\n",
       "(58.45, 68.5]                  474\n",
       "(68.5, 78.55]                  893\n",
       "(78.55, 88.6]                  953\n",
       "(88.6, 98.65]                  873\n",
       "(98.65, 108.7]                 754\n",
       "(108.7, 118.75]                294\n",
       "Name: monthly_charges, dtype: int64"
      ]
     },
     "execution_count": 73,
     "metadata": {},
     "output_type": "execute_result"
    }
   ],
   "source": [
    "# Monthly_charges Distribution:\n",
    "df.monthly_charges.value_counts(bins = 10, dropna = False).sort_index()"
   ]
  },
  {
   "cell_type": "code",
   "execution_count": 74,
   "metadata": {},
   "outputs": [
    {
     "data": {
      "text/plain": [
       "<matplotlib.axes._subplots.AxesSubplot at 0x1a1d7f24a8>"
      ]
     },
     "execution_count": 74,
     "metadata": {},
     "output_type": "execute_result"
    },
    {
     "data": {
      "image/png": "[encoded data removed]",
      "text/plain": [
       "<Figure size 432x288 with 1 Axes>"
      ]
     },
     "metadata": {
      "needs_background": "light"
     },
     "output_type": "display_data"
    }
   ],
   "source": [
    "sns.distplot(df.monthly_charges[df.churn == 'Yes'])\n",
    "sns.distplot(df.monthly_charges)"
   ]
  },
  {
   "cell_type": "code",
   "execution_count": 75,
   "metadata": {},
   "outputs": [
    {
     "data": {
      "text/plain": [
       "count    1869.000000\n",
       "mean       74.441332\n",
       "std        24.666053\n",
       "min        18.850000\n",
       "25%        56.150000\n",
       "50%        79.650000\n",
       "75%        94.200000\n",
       "max       118.350000\n",
       "Name: monthly_charges, dtype: float64"
      ]
     },
     "execution_count": 75,
     "metadata": {},
     "output_type": "execute_result"
    }
   ],
   "source": [
    "df.monthly_charges[df.churn == 'Yes'].describe()"
   ]
  },
  {
   "cell_type": "code",
   "execution_count": 76,
   "metadata": {},
   "outputs": [
    {
     "data": {
      "text/plain": [
       "count    7043.000000\n",
       "mean       64.761692\n",
       "std        30.090047\n",
       "min        18.250000\n",
       "25%        35.500000\n",
       "50%        70.350000\n",
       "75%        89.850000\n",
       "max       118.750000\n",
       "Name: monthly_charges, dtype: float64"
      ]
     },
     "execution_count": 76,
     "metadata": {},
     "output_type": "execute_result"
    }
   ],
   "source": [
    "df.monthly_charges.describe()"
   ]
  },
  {
   "cell_type": "code",
   "execution_count": 77,
   "metadata": {
    "scrolled": false
   },
   "outputs": [
    {
     "data": {
      "text/plain": [
       "<matplotlib.legend.Legend at 0x1a1ece1630>"
      ]
     },
     "execution_count": 77,
     "metadata": {},
     "output_type": "execute_result"
    },
    {
     "data": {
      "image/png": "[encoded data removed]",
      "text/plain": [
       "<Figure size 432x288 with 1 Axes>"
      ]
     },
     "metadata": {
      "needs_background": "light"
     },
     "output_type": "display_data"
    }
   ],
   "source": [
    "#fig2, ax2 = plt.subplots()\n",
    "#sns.distplot(df.monthly_charges, color='b')\n",
    "sns.distplot(df.monthly_charges, kde=False, norm_hist=False, color='b', label = 'monthly_charges')\n",
    "sns.distplot(df.monthly_charges[df.churn == 'Yes'], kde = False, norm_hist = False, color ='g', label = 'churn_monthly_charges')\n",
    "plt.axvline(x=df.monthly_charges.mean(), color = 'black', linestyle = '--', label = 'monthly_charges mean')\n",
    "plt.axvline(x=df.monthly_charges.mean()+df.monthly_charges.std(), color = 'black', label = 'monthly_charges std')\n",
    "plt.axvline(x=df.monthly_charges.mean()-df.monthly_charges.std(), color = 'black')\n",
    "plt.axvline(x=df.monthly_charges[df.churn == 'Yes'].mean(), color = 'red', linestyle = '--',label = 'churn monthly_charges mean')\n",
    "plt.axvline(x=df.monthly_charges[df.churn == 'Yes'].mean() + df.monthly_charges[df.churn == 'Yes'].std(), color = 'red', label = 'churn monthly_charges std')\n",
    "plt.axvline(x=df.monthly_charges[df.churn == 'Yes'].mean() - df.monthly_charges[df.churn == 'Yes'].std(), color = 'red')\n",
    "plt.axvline(x=df.monthly_charges[df.churn == 'No'].mean(), color = 'green',linestyle = '--', label = 'no_churn monthly_charges mean')\n",
    "plt.axvline(x=df.monthly_charges[df.churn == 'No'].mean() + df.monthly_charges[df.churn == 'No'].std(), color = 'green', label = 'no_churn monthly_charges mean')\n",
    "plt.axvline(x=df.monthly_charges[df.churn == 'No'].mean() - df.monthly_charges[df.churn == 'No'].std(), color = 'green')\n",
    "plt.legend(loc='upper center', bbox_to_anchor=(1.45, 0.8), shadow=True, ncol=1)\n"
   ]
  },
  {
   "cell_type": "code",
   "execution_count": 78,
   "metadata": {},
   "outputs": [
    {
     "data": {
      "text/plain": [
       "7043"
      ]
     },
     "execution_count": 78,
     "metadata": {},
     "output_type": "execute_result"
    }
   ],
   "source": [
    "total = len(df.monthly_charges)\n",
    "total"
   ]
  },
  {
   "cell_type": "code",
   "execution_count": 79,
   "metadata": {},
   "outputs": [
    {
     "data": {
      "text/plain": [
       "array([1606,  953,  893,  873,  754,  640,  474,  365,  294,  191])"
      ]
     },
     "execution_count": 79,
     "metadata": {},
     "output_type": "execute_result"
    }
   ],
   "source": [
    "monthly_charges_bins = np. array(df.monthly_charges.value_counts(dropna=False, bins = 10))\n",
    "monthly_charges_bins"
   ]
  },
  {
   "cell_type": "markdown",
   "metadata": {},
   "source": [
    "***Take Aways:***  \n",
    "\n",
    "The mean monthly_charges for customers who churn is 74.44 with a standard deviation of 24.66. This overlaps with the population mean of 64.76 and standard deviation of 30.00"
   ]
  },
  {
   "cell_type": "code",
   "execution_count": 80,
   "metadata": {},
   "outputs": [
    {
     "data": {
      "text/plain": [
       "20.20      11\n",
       "NaN        11\n",
       "19.75       9\n",
       "19.90       8\n",
       "19.65       8\n",
       "20.05       8\n",
       "45.30       7\n",
       "19.55       7\n",
       "19.45       6\n",
       "20.25       6\n",
       "20.15       6\n",
       "20.30       5\n",
       "20.45       5\n",
       "74.70       4\n",
       "19.20       4\n",
       "19.40       4\n",
       "69.95       4\n",
       "69.90       4\n",
       "20.40       4\n",
       "69.60       4\n",
       "44.00       4\n",
       "44.40       4\n",
       "19.95       4\n",
       "70.60       4\n",
       "20.35       4\n",
       "20.50       4\n",
       "19.50       4\n",
       "50.15       4\n",
       "19.85       4\n",
       "75.30       4\n",
       "           ..\n",
       "1834.15     1\n",
       "999.80      1\n",
       "8333.95     1\n",
       "7171.70     1\n",
       "3726.15     1\n",
       "80.05       1\n",
       "456.85      1\n",
       "96.05       1\n",
       "1399.35     1\n",
       "2497.35     1\n",
       "7069.30     1\n",
       "688.65      1\n",
       "6471.85     1\n",
       "552.10      1\n",
       "3242.50     1\n",
       "3252.00     1\n",
       "183.75      1\n",
       "6886.25     1\n",
       "7108.20     1\n",
       "78.45       1\n",
       "1171.30     1\n",
       "3181.80     1\n",
       "2540.10     1\n",
       "3580.95     1\n",
       "6470.10     1\n",
       "3143.65     1\n",
       "1110.50     1\n",
       "1098.85     1\n",
       "156.10      1\n",
       "30.50       1\n",
       "Name: total_charges, Length: 6531, dtype: int64"
      ]
     },
     "execution_count": 80,
     "metadata": {},
     "output_type": "execute_result"
    }
   ],
   "source": [
    "# Total Charges Distribution:\n",
    "df.total_charges.value_counts(dropna=False)\n",
    "\n"
   ]
  },
  {
   "cell_type": "markdown",
   "metadata": {},
   "source": [
    "There are 11 missing values in out total_charges column. We we begin to prep we will look at how to handle this column."
   ]
  },
  {
   "cell_type": "code",
   "execution_count": 81,
   "metadata": {},
   "outputs": [
    {
     "data": {
      "text/plain": [
       "20.20    11\n",
       "19.75     9\n",
       "20.05     8\n",
       "19.90     8\n",
       "19.65     8\n",
       "Name: total_charges, dtype: int64"
      ]
     },
     "execution_count": 81,
     "metadata": {},
     "output_type": "execute_result"
    }
   ],
   "source": [
    "# To get our distribution plot we will drop the NaN values\n",
    "df_total_charges = df[['total_charges']].dropna()\n",
    "df_total_charges.total_charges.value_counts(dropna=False).head()"
   ]
  },
  {
   "cell_type": "code",
   "execution_count": 82,
   "metadata": {},
   "outputs": [
    {
     "data": {
      "text/html": [
       "<div>\n",
       "<style scoped>\n",
       "    .dataframe tbody tr th:only-of-type {\n",
       "        vertical-align: middle;\n",
       "    }\n",
       "\n",
       "    .dataframe tbody tr th {\n",
       "        vertical-align: top;\n",
       "    }\n",
       "\n",
       "    .dataframe thead th {\n",
       "        text-align: right;\n",
       "    }\n",
       "</style>\n",
       "<table border=\"1\" class=\"dataframe\">\n",
       "  <thead>\n",
       "    <tr style=\"text-align: right;\">\n",
       "      <th></th>\n",
       "      <th>total_charges</th>\n",
       "    </tr>\n",
       "  </thead>\n",
       "  <tbody>\n",
       "    <tr>\n",
       "      <th>count</th>\n",
       "      <td>7032.000000</td>\n",
       "    </tr>\n",
       "    <tr>\n",
       "      <th>mean</th>\n",
       "      <td>2283.300441</td>\n",
       "    </tr>\n",
       "    <tr>\n",
       "      <th>std</th>\n",
       "      <td>2266.771362</td>\n",
       "    </tr>\n",
       "    <tr>\n",
       "      <th>min</th>\n",
       "      <td>18.800000</td>\n",
       "    </tr>\n",
       "    <tr>\n",
       "      <th>25%</th>\n",
       "      <td>401.450000</td>\n",
       "    </tr>\n",
       "    <tr>\n",
       "      <th>50%</th>\n",
       "      <td>1397.475000</td>\n",
       "    </tr>\n",
       "    <tr>\n",
       "      <th>75%</th>\n",
       "      <td>3794.737500</td>\n",
       "    </tr>\n",
       "    <tr>\n",
       "      <th>max</th>\n",
       "      <td>8684.800000</td>\n",
       "    </tr>\n",
       "  </tbody>\n",
       "</table>\n",
       "</div>"
      ],
      "text/plain": [
       "       total_charges\n",
       "count    7032.000000\n",
       "mean     2283.300441\n",
       "std      2266.771362\n",
       "min        18.800000\n",
       "25%       401.450000\n",
       "50%      1397.475000\n",
       "75%      3794.737500\n",
       "max      8684.800000"
      ]
     },
     "execution_count": 82,
     "metadata": {},
     "output_type": "execute_result"
    }
   ],
   "source": [
    "df_total_charges.describe()"
   ]
  },
  {
   "cell_type": "code",
   "execution_count": 83,
   "metadata": {},
   "outputs": [
    {
     "data": {
      "text/plain": [
       "<matplotlib.axes._subplots.AxesSubplot at 0x1a1ec5c390>"
      ]
     },
     "execution_count": 83,
     "metadata": {},
     "output_type": "execute_result"
    },
    {
     "data": {
      "image/png": "[encoded data removed]",
      "text/plain": [
       "<Figure size 432x288 with 1 Axes>"
      ]
     },
     "metadata": {
      "needs_background": "light"
     },
     "output_type": "display_data"
    }
   ],
   "source": [
    "sns.distplot(df_total_charges, kde=False, norm_hist=False, color='black', label = 'monthly_charges')\n",
    "sns.distplot(df.total_charges[df.churn == 'Yes'], kde = False, norm_hist = False)"
   ]
  },
  {
   "cell_type": "code",
   "execution_count": 84,
   "metadata": {},
   "outputs": [
    {
     "data": {
      "text/plain": [
       "Month-to-month    3875\n",
       "Two year          1695\n",
       "One year          1473\n",
       "Name: contract_type, dtype: int64"
      ]
     },
     "execution_count": 84,
     "metadata": {},
     "output_type": "execute_result"
    }
   ],
   "source": [
    "# Contract Type Distribution:\n",
    "df.contract_type.value_counts(dropna = False)"
   ]
  },
  {
   "cell_type": "code",
   "execution_count": 85,
   "metadata": {},
   "outputs": [
    {
     "data": {
      "image/png": "[encoded data removed]",
      "text/plain": [
       "<Figure size 432x288 with 1 Axes>"
      ]
     },
     "metadata": {
      "needs_background": "light"
     },
     "output_type": "display_data"
    }
   ],
   "source": [
    "# bar plot\n",
    "df.contract_type.value_counts(dropna = False).sort_index().plot(kind = \"bar\", alpha = .5)\n",
    "plt.title(\"Distribution of customers contract type\")\n",
    "plt.grid(b= True, which = 'major')\n"
   ]
  },
  {
   "cell_type": "code",
   "execution_count": 86,
   "metadata": {},
   "outputs": [
    {
     "data": {
      "text/plain": [
       "(0.4270967741935484, 0.11269517990495587, 0.02831858407079646)"
      ]
     },
     "execution_count": 86,
     "metadata": {},
     "output_type": "execute_result"
    }
   ],
   "source": [
    "p_month_to_month_churn = len(df[(df.churn == 'Yes') & (df.contract_type == 'Month-to-month')])/len(df[df.contract_type == 'Month-to-month'])\n",
    "p_one_year_churn = len(df[(df.churn == 'Yes') & (df.contract_type == 'One year')])/len(df[df.contract_type == 'One year'])\n",
    "p_two_year_churn = len(df[(df.churn == 'Yes') & (df.contract_type == 'Two year')])/len(df[df.contract_type == 'Two year'])\n",
    "p_month_to_month_churn, p_one_year_churn, p_two_year_churn\n"
   ]
  },
  {
   "cell_type": "markdown",
   "metadata": {},
   "source": [
    "***Take-Aways** The customers with contacts Month-to-month have a higher rate of churn than the population churn rate. This is one of the higher churn rates, and will be one to consider."
   ]
  },
  {
   "cell_type": "code",
   "execution_count": 87,
   "metadata": {},
   "outputs": [],
   "source": [
    "# Internet Service Type Distribution:"
   ]
  },
  {
   "cell_type": "code",
   "execution_count": 88,
   "metadata": {},
   "outputs": [
    {
     "data": {
      "text/plain": [
       "Fiber optic    3096\n",
       "DSL            2421\n",
       "None           1526\n",
       "Name: internet_service_type, dtype: int64"
      ]
     },
     "execution_count": 88,
     "metadata": {},
     "output_type": "execute_result"
    }
   ],
   "source": [
    "df.internet_service_type.value_counts(dropna = False)"
   ]
  },
  {
   "cell_type": "code",
   "execution_count": 89,
   "metadata": {},
   "outputs": [
    {
     "data": {
      "image/png": "[encoded data removed]",
      "text/plain": [
       "<Figure size 432x288 with 1 Axes>"
      ]
     },
     "metadata": {
      "needs_background": "light"
     },
     "output_type": "display_data"
    }
   ],
   "source": [
    "# bar plot\n",
    "df.internet_service_type.value_counts(dropna = False).sort_index().plot(kind = \"bar\", alpha = .5)\n",
    "plt.title(\"Distribution of customers internet service type\")\n",
    "plt.grid(b= True, which = 'major')\n"
   ]
  },
  {
   "cell_type": "code",
   "execution_count": 90,
   "metadata": {},
   "outputs": [
    {
     "data": {
      "text/plain": [
       "(0.1895910780669145, 0.4189276485788114, 0.07404980340760157)"
      ]
     },
     "execution_count": 90,
     "metadata": {},
     "output_type": "execute_result"
    }
   ],
   "source": [
    "p_DSL_churn = len(df[(df.churn == 'Yes') & (df.internet_service_type == 'DSL')])/len(df[df.internet_service_type == 'DSL'])\n",
    "p_Fiber_optic_churn = len(df[(df.churn == 'Yes') & (df.internet_service_type == 'Fiber optic')])/len(df[df.internet_service_type == 'Fiber optic'])\n",
    "p_None_churn = len(df[(df.churn == 'Yes') & (df.internet_service_type == 'None')])/len(df[df.internet_service_type == 'None'])\n",
    "p_DSL_churn, p_Fiber_optic_churn, p_None_churn\n"
   ]
  },
  {
   "cell_type": "markdown",
   "metadata": {},
   "source": [
    "***Take Aways:*** The rate of churn for customers who have fiber optic internet service is higher than the population rate of churn."
   ]
  },
  {
   "cell_type": "code",
   "execution_count": 91,
   "metadata": {},
   "outputs": [
    {
     "data": {
      "text/plain": [
       "Electronic check             2365\n",
       "Mailed check                 1612\n",
       "Bank transfer (automatic)    1544\n",
       "Credit card (automatic)      1522\n",
       "Name: payment_type, dtype: int64"
      ]
     },
     "execution_count": 91,
     "metadata": {},
     "output_type": "execute_result"
    }
   ],
   "source": [
    "# Payment Type Distribution:\n",
    "df.payment_type.value_counts(dropna = False)"
   ]
  },
  {
   "cell_type": "code",
   "execution_count": 92,
   "metadata": {},
   "outputs": [
    {
     "data": {
      "image/png": "[encoded data removed]",
      "text/plain": [
       "<Figure size 432x288 with 1 Axes>"
      ]
     },
     "metadata": {
      "needs_background": "light"
     },
     "output_type": "display_data"
    }
   ],
   "source": [
    "# bar plot\n",
    "df.payment_type.value_counts(dropna = False).sort_index().plot(kind = \"bar\", alpha = .5)\n",
    "plt.title(\"Distribution of customers payment type\")\n",
    "plt.grid(b= True, which = 'major')\n"
   ]
  },
  {
   "cell_type": "code",
   "execution_count": 93,
   "metadata": {},
   "outputs": [
    {
     "data": {
      "text/plain": [
       "(0.16709844559585493,\n",
       " 0.15243101182654403,\n",
       " 0.4528541226215645,\n",
       " 0.19106699751861042)"
      ]
     },
     "execution_count": 93,
     "metadata": {},
     "output_type": "execute_result"
    }
   ],
   "source": [
    "p_bank_churn = len(df[(df.churn == 'Yes') & (df.payment_type == 'Bank transfer (automatic)')])/len(df[df.payment_type == 'Bank transfer (automatic)'])\n",
    "p_credit_card_churn = len(df[(df.churn == 'Yes') & (df.payment_type == 'Credit card (automatic)')])/len(df[df.payment_type == 'Credit card (automatic)'])\n",
    "p_elec_check_churn = len(df[(df.churn == 'Yes') & (df.payment_type == 'Electronic check')])/len(df[df.payment_type == 'Electronic check'])\n",
    "p_mailed_check_churn = len(df[(df.churn == 'Yes') & (df.payment_type == 'Mailed check')])/len(df[df.payment_type == 'Mailed check'])\n",
    "p_bank_churn, p_credit_card_churn, p_elec_check_churn, p_mailed_check_churn\n"
   ]
  },
  {
   "cell_type": "markdown",
   "metadata": {},
   "source": [
    "***Take Aways:*** Customers who pay with electronic check have a higher rate of churn compared with the population rate of churn."
   ]
  },
  {
   "cell_type": "code",
   "execution_count": 94,
   "metadata": {},
   "outputs": [
    {
     "data": {
      "text/html": [
       "<div>\n",
       "<style scoped>\n",
       "    .dataframe tbody tr th:only-of-type {\n",
       "        vertical-align: middle;\n",
       "    }\n",
       "\n",
       "    .dataframe tbody tr th {\n",
       "        vertical-align: top;\n",
       "    }\n",
       "\n",
       "    .dataframe thead th {\n",
       "        text-align: right;\n",
       "    }\n",
       "</style>\n",
       "<table border=\"1\" class=\"dataframe\">\n",
       "  <thead>\n",
       "    <tr style=\"text-align: right;\">\n",
       "      <th></th>\n",
       "      <th>churn_rate</th>\n",
       "    </tr>\n",
       "  </thead>\n",
       "  <tbody>\n",
       "    <tr>\n",
       "      <th>p_Fiber_optic_churn</th>\n",
       "      <td>0.418928</td>\n",
       "    </tr>\n",
       "    <tr>\n",
       "      <th>p_elec_check_churn</th>\n",
       "      <td>0.452854</td>\n",
       "    </tr>\n",
       "    <tr>\n",
       "      <th>p_month_to_month_churn</th>\n",
       "      <td>0.427097</td>\n",
       "    </tr>\n",
       "  </tbody>\n",
       "</table>\n",
       "</div>"
      ],
      "text/plain": [
       "                        churn_rate\n",
       "p_Fiber_optic_churn       0.418928\n",
       "p_elec_check_churn        0.452854\n",
       "p_month_to_month_churn    0.427097"
      ]
     },
     "execution_count": 94,
     "metadata": {},
     "output_type": "execute_result"
    }
   ],
   "source": [
    "# In exploring these individual variables I want to create a model based on the following churn rates:\n",
    "pd.DataFrame({'churn_rate': \n",
    "             {'p_Fiber_optic_churn': p_Fiber_optic_churn, \n",
    "              'p_month_to_month_churn': p_month_to_month_churn, \n",
    "              'p_elec_check_churn': p_elec_check_churn}})"
   ]
  },
  {
   "cell_type": "markdown",
   "metadata": {},
   "source": [
    "#### Features that I will explore will be internet_service_type, payment_type, contract_type. Continues variables to consider will be monthly_charges, tenure, and total_charges\n"
   ]
  },
  {
   "cell_type": "markdown",
   "metadata": {},
   "source": [
    "### Data Prep\n",
    "\n",
    "Create new data frame in prepare.py file to explore the variables above"
   ]
  },
  {
   "cell_type": "markdown",
   "metadata": {},
   "source": [
    "All of the data prep has been completed in the prepare.py file.\n",
    "\n",
    "Below are my notes from my prepare.py file, and at the end I will return:\n",
    "\n",
    "1. Aquire: create query, and use aquire.py to get telco data from SQL.\n",
    "\n",
    "\n",
    "2. Set the index to customer_id. This will be helpful when predicting a specific customer's probability of churning.\n",
    "\n",
    "\n",
    "3. Replace empty spaces ' ' with np.nan. This appears in out total_charges column.\n",
    "\n",
    "\n",
    "4. After we replace ' ' (space) with np.nan we see that there are 7032 non-null values for total_charges. All other variables have 7043. \n",
    "\n",
    "    We see from the dataframe where total_charges.isna() has all tenure of 0. We can assume to mean that there is total_charges for these customers yet.\n",
    "    \n",
    "    Because these customers has no tenure, they have not had a opportunity to churn or not churn.\n",
    "    \n",
    "    Our data set is going to have enough over 7000 rows, so we will drop these rows. \n",
    "  \n",
    "  \n",
    "5. Create a new column named 'tenure_years' this converts our time of months into a measurement of years.\n",
    "\n",
    "\n",
    "6. Create single variable representing the information from phone_service, and multiple lines\n",
    "\n",
    "\n",
    "7. Do the same thing using dependents and partners.\n",
    "\n",
    "\n",
    "8. total_charges is an object datatype. We need to change this to float using astype()\n",
    "\n",
    "\n",
    "9. Create one_hot_encoder for payment, internet_service, and contract_type id's.\n",
    "\n",
    "\n",
    "10. Next split the data into train, and test"
   ]
  },
  {
   "cell_type": "code",
   "execution_count": 95,
   "metadata": {},
   "outputs": [],
   "source": [
    "# Return dataframes that were created from above in the prepare.py file"
   ]
  },
  {
   "cell_type": "code",
   "execution_count": 96,
   "metadata": {},
   "outputs": [],
   "source": [
    "train = prepare.train\n",
    "test = prepare.test\n",
    "train_ohe = prepare.train_ohe\n",
    "test_ohe = prepare.test_ohe"
   ]
  },
  {
   "cell_type": "code",
   "execution_count": 97,
   "metadata": {},
   "outputs": [],
   "source": [
    "# Comment in and out lines to see the head of each dataframe\n",
    "\n",
    "# train.head()\n",
    "# test.head()\n",
    "# train_ohe.head()\n",
    "# test_ohe.head()"
   ]
  },
  {
   "cell_type": "code",
   "execution_count": 98,
   "metadata": {},
   "outputs": [
    {
     "name": "stdout",
     "output_type": "stream",
     "text": [
      "<class 'pandas.core.frame.DataFrame'>\n",
      "Index: 4922 entries, 8439-LTUGF to 2851-STERV\n",
      "Data columns (total 36 columns):\n",
      "payment_type_id              4922 non-null int64\n",
      "internet_service_type_id     4922 non-null int64\n",
      "contract_type_id             4922 non-null int64\n",
      "gender                       4922 non-null object\n",
      "senior_citizen               4922 non-null int64\n",
      "partner                      4922 non-null object\n",
      "dependents                   4922 non-null object\n",
      "tenure                       4922 non-null int64\n",
      "phone_service                4922 non-null object\n",
      "multiple_lines               4922 non-null object\n",
      "online_security              4922 non-null object\n",
      "online_backup                4922 non-null object\n",
      "device_protection            4922 non-null object\n",
      "tech_support                 4922 non-null object\n",
      "streaming_tv                 4922 non-null object\n",
      "streaming_movies             4922 non-null object\n",
      "paperless_billing            4922 non-null object\n",
      "monthly_charges              4922 non-null float64\n",
      "total_charges                4922 non-null float64\n",
      "churn                        4922 non-null object\n",
      "contract_type                4922 non-null object\n",
      "internet_service_type        4922 non-null object\n",
      "payment_type                 4922 non-null object\n",
      "tenure_years                 4922 non-null float64\n",
      "phone_and_multi_line         4922 non-null int64\n",
      "partner_dependents           4922 non-null int64\n",
      "Electronic check             4922 non-null float64\n",
      "Mailed check                 4922 non-null float64\n",
      "Bank transfer (automatic)    4922 non-null float64\n",
      "Credit card (automatic)      4922 non-null float64\n",
      "DSL                          4922 non-null float64\n",
      "Fiber optic                  4922 non-null float64\n",
      "None                         4922 non-null float64\n",
      "Month-to-month               4922 non-null float64\n",
      "One year                     4922 non-null float64\n",
      "Two year                     4922 non-null float64\n",
      "dtypes: float64(13), int64(7), object(16)\n",
      "memory usage: 1.4+ MB\n"
     ]
    }
   ],
   "source": [
    "# Comment in a out lines to see the info of each dataframe\n",
    "\n",
    "# train.info()\n",
    "# test.info()\n",
    "train_ohe.info()\n",
    "# test_ohe.info()"
   ]
  },
  {
   "cell_type": "markdown",
   "metadata": {},
   "source": [
    "# Data Exploration"
   ]
  },
  {
   "cell_type": "code",
   "execution_count": 99,
   "metadata": {},
   "outputs": [
    {
     "data": {
      "text/plain": [
       "0.2657456318569687"
      ]
     },
     "execution_count": 99,
     "metadata": {},
     "output_type": "execute_result"
    }
   ],
   "source": [
    "len(train[train.churn == 'Yes'])/len(train.churn)"
   ]
  },
  {
   "cell_type": "markdown",
   "metadata": {},
   "source": [
    "1. Is there a month where the customer is more likely to churn? If a cohort is identified by tenure is there a cohort or cohorts who have a highter rate of churn than other cohorts? (Plot the rate of churn on a line where x is the tenure and y is the rate of churn (customers churned/total_customers"
   ]
  },
  {
   "cell_type": "code",
   "execution_count": 100,
   "metadata": {},
   "outputs": [
    {
     "data": {
      "text/plain": [
       "No     3614\n",
       "Yes    1308\n",
       "Name: churn, dtype: int64"
      ]
     },
     "execution_count": 100,
     "metadata": {},
     "output_type": "execute_result"
    }
   ],
   "source": [
    "train[(train.tenure == 1) & (train.churn == 'Yes')]\n",
    "train.churn.value_counts()"
   ]
  },
  {
   "cell_type": "code",
   "execution_count": 101,
   "metadata": {},
   "outputs": [],
   "source": [
    "x = range(1,73)\n",
    "y = (([len(train[(train.tenure == i) & (train.churn == 'Yes')])/\n",
    "       len(train[train.tenure == i])\n",
    "      for i in range(1,max(train.tenure)+1)]))\n"
   ]
  },
  {
   "cell_type": "code",
   "execution_count": 102,
   "metadata": {},
   "outputs": [],
   "source": [
    "# x\n",
    "# y"
   ]
  },
  {
   "cell_type": "code",
   "execution_count": 103,
   "metadata": {},
   "outputs": [
    {
     "data": {
      "text/plain": [
       "Text(0.5, 1.0, 'Rate of Churn vs. Tenure')"
      ]
     },
     "execution_count": 103,
     "metadata": {},
     "output_type": "execute_result"
    },
    {
     "data": {
      "image/png": "[encoded data removed]",
      "text/plain": [
       "<Figure size 432x288 with 1 Axes>"
      ]
     },
     "metadata": {
      "needs_background": "light"
     },
     "output_type": "display_data"
    }
   ],
   "source": [
    "plt.plot(x,y)\n",
    "plt.xlabel('tenure')\n",
    "plt.ylabel('rate of churn')\n",
    "plt.title('Rate of Churn vs. Tenure')"
   ]
  },
  {
   "cell_type": "markdown",
   "metadata": {},
   "source": [
    "***Take Away:*** As tenure increases the rate of churn decreases. "
   ]
  },
  {
   "cell_type": "markdown",
   "metadata": {},
   "source": [
    "Are there features that indicate a higher propensity to churn? Like type of internet service, type of phone service, only security and backup, senior citizens, paying more than x% of customers with the same services."
   ]
  },
  {
   "cell_type": "code",
   "execution_count": 104,
   "metadata": {},
   "outputs": [
    {
     "name": "stdout",
     "output_type": "stream",
     "text": [
      "None 0.07677902621722846\n",
      "Fiber optic 0.41770978210477516\n",
      "DSL 0.1915144372421921\n"
     ]
    }
   ],
   "source": [
    "# Print the type of internet_service, and churn rate\n",
    "x = list(train.internet_service_type.unique())\n",
    "\n",
    "for i in x:\n",
    "    churn_customers = len(train[(train.internet_service_type == i) & (train.churn == 'Yes')])\n",
    "    i_customers = len(train[train.internet_service_type == i])\n",
    "    churn_rate = churn_customers/i_customers\n",
    "    print(i, churn_rate)\n",
    "\n"
   ]
  },
  {
   "cell_type": "markdown",
   "metadata": {},
   "source": [
    "Those who have Fiber optic churn at a higher rate than the population. The rate of churn for customers who have Fiber Optic service is 41% the population churn rate is %26"
   ]
  },
  {
   "cell_type": "code",
   "execution_count": 105,
   "metadata": {},
   "outputs": [
    {
     "name": "stdout",
     "output_type": "stream",
     "text": [
      "Yes 0.265635507733692\n",
      "No 0.2668112798264642\n"
     ]
    }
   ],
   "source": [
    "x = list(train.phone_service.unique())\n",
    "\n",
    "for i in x:\n",
    "    churn_customers = len(train[(train.phone_service == i) & (train.churn == 'Yes')])\n",
    "    i_customers = len(train[train.phone_service == i])\n",
    "    churn_rate = churn_customers/i_customers\n",
    "    print(i, churn_rate)"
   ]
  },
  {
   "cell_type": "markdown",
   "metadata": {},
   "source": [
    "Phone Service does not seem to have an effect on churn, the rate of churn for them is the same as the population."
   ]
  },
  {
   "cell_type": "code",
   "execution_count": 106,
   "metadata": {},
   "outputs": [
    {
     "name": "stdout",
     "output_type": "stream",
     "text": [
      "No 0.2512541806020067\n",
      "Yes 0.28226196230062833\n",
      "No phone service 0.2668112798264642\n"
     ]
    }
   ],
   "source": [
    "x = list(train.multiple_lines.unique())\n",
    "\n",
    "for i in x:\n",
    "    churn_customers = len(train[(train.multiple_lines == i) & (train.churn == 'Yes')])\n",
    "    i_customers = len(train[train.multiple_lines == i])\n",
    "    churn_rate = churn_customers/i_customers\n",
    "    print(i, churn_rate)"
   ]
  },
  {
   "cell_type": "markdown",
   "metadata": {},
   "source": [
    "Multiple lines does not seem to have an effect on churn, the rate of churn for them is the same as the population."
   ]
  },
  {
   "cell_type": "code",
   "execution_count": 107,
   "metadata": {},
   "outputs": [
    {
     "name": "stdout",
     "output_type": "stream",
     "text": [
      "No internet service 0.07677902621722846\n",
      "Yes 0.1492109038737446\n",
      "No 0.4138211382113821\n"
     ]
    }
   ],
   "source": [
    "x = list(train.online_security.unique())\n",
    "\n",
    "for i in x:\n",
    "    churn_customers = len(train[(train.online_security == i) & (train.churn == 'Yes')])\n",
    "    i_customers = len(train[train.online_security == i])\n",
    "    churn_rate = churn_customers/i_customers\n",
    "    print(i, churn_rate)"
   ]
  },
  {
   "cell_type": "markdown",
   "metadata": {},
   "source": [
    "Those who have No Online Security churn at a higher rate than the population. The rate of churn for customers who have do not have online security service is 41% the population churn rate is 26%"
   ]
  },
  {
   "cell_type": "code",
   "execution_count": 108,
   "metadata": {},
   "outputs": [
    {
     "name": "stdout",
     "output_type": "stream",
     "text": [
      "No internet service 0.07677902621722846\n",
      "No 0.396496081143384\n",
      "Yes 0.2172106824925816\n"
     ]
    }
   ],
   "source": [
    "x = list(train.online_backup.unique())\n",
    "\n",
    "for i in x:\n",
    "    churn_customers = len(train[(train.online_backup == i) & (train.churn == 'Yes')])\n",
    "    i_customers = len(train[train.online_backup == i])\n",
    "    churn_rate = churn_customers/i_customers\n",
    "    print(i, churn_rate)"
   ]
  },
  {
   "cell_type": "markdown",
   "metadata": {},
   "source": [
    "Those who have No Onlne backup churn at a higher rate than the population."
   ]
  },
  {
   "cell_type": "code",
   "execution_count": 109,
   "metadata": {},
   "outputs": [
    {
     "data": {
      "text/plain": [
       "(0.7090825265099124, 0.6252032520325204)"
      ]
     },
     "execution_count": 109,
     "metadata": {},
     "output_type": "execute_result"
    }
   ],
   "source": [
    "# What proportion of customers who have no online security also have no backup.\n",
    "prop_no_online_backup = len(train[(train.online_backup == 'No') & (train.online_security == 'No')])/len(train[train.online_backup == 'No'])\n",
    "prop_no_online_security = len(train[(train.online_backup == 'No') & (train.online_security == 'No')])/len(train[train.online_security == 'No'])\n",
    "\n",
    "prop_no_online_backup, prop_no_online_security"
   ]
  },
  {
   "cell_type": "markdown",
   "metadata": {},
   "source": [
    "Most of customes who have no online backup also do not have online security. We can propbably pick between these features."
   ]
  },
  {
   "cell_type": "code",
   "execution_count": 110,
   "metadata": {},
   "outputs": [
    {
     "name": "stdout",
     "output_type": "stream",
     "text": [
      "0 0.2378652499396281\n",
      "1 0.41357234314980795\n"
     ]
    }
   ],
   "source": [
    "#Senior Citizens\n",
    "x = list(train.senior_citizen.unique())\n",
    "\n",
    "for i in x:\n",
    "    churn_customers = len(train[(train.senior_citizen == i) & (train.churn == 'Yes')])\n",
    "    i_customers = len(train[train.senior_citizen == i])\n",
    "    churn_rate = churn_customers/i_customers\n",
    "    print(i, churn_rate)"
   ]
  },
  {
   "cell_type": "markdown",
   "metadata": {},
   "source": [
    "Those who are senior citizens churn at a higher rate than the population. The rate of churn for customers who are senior citizens is 41% the population churn rate is 26%"
   ]
  },
  {
   "cell_type": "code",
   "execution_count": 111,
   "metadata": {},
   "outputs": [
    {
     "name": "stdout",
     "output_type": "stream",
     "text": [
      "Month-to-month 0.42472324723247235\n",
      "Two year 0.028448275862068967\n",
      "One year 0.11787072243346007\n"
     ]
    }
   ],
   "source": [
    "x = list(train.contract_type.unique())\n",
    "\n",
    "for i in x:\n",
    "    churn_customers = len(train[(train.contract_type == i) & (train.churn == 'Yes')])\n",
    "    i_customers = len(train[train.contract_type == i])\n",
    "    churn_rate = churn_customers/i_customers\n",
    "    print(i, churn_rate)"
   ]
  },
  {
   "cell_type": "markdown",
   "metadata": {},
   "source": [
    "Those who have a month to month contract churn at a higher rate than the population. The rate of churn for customers who have month to month contracts is 41% the population churn rate is 26%"
   ]
  },
  {
   "cell_type": "code",
   "execution_count": 112,
   "metadata": {},
   "outputs": [],
   "source": [
    "# Paying more than x% of customers with same services?"
   ]
  },
  {
   "cell_type": "code",
   "execution_count": 113,
   "metadata": {},
   "outputs": [],
   "source": [
    "# Look at Fiber Optic"
   ]
  },
  {
   "cell_type": "code",
   "execution_count": 246,
   "metadata": {
    "scrolled": true
   },
   "outputs": [
    {
     "data": {
      "text/plain": [
       "901"
      ]
     },
     "execution_count": 246,
     "metadata": {},
     "output_type": "execute_result"
    }
   ],
   "source": [
    "#Amount of customers who have churned, and have fiber optic\n",
    "len(train.monthly_charges[(train.churn == 'Yes') & (train.internet_service_type == 'Fiber optic')])"
   ]
  },
  {
   "cell_type": "code",
   "execution_count": null,
   "metadata": {},
   "outputs": [],
   "source": [
    "#Amount of customers who have churned"
   ]
  },
  {
   "cell_type": "code",
   "execution_count": 248,
   "metadata": {},
   "outputs": [
    {
     "data": {
      "text/plain": [
       "1308"
      ]
     },
     "execution_count": 248,
     "metadata": {},
     "output_type": "execute_result"
    }
   ],
   "source": [
    "len(train.churn[train.churn == 'Yes'])"
   ]
  },
  {
   "cell_type": "code",
   "execution_count": 249,
   "metadata": {},
   "outputs": [
    {
     "data": {
      "text/plain": [
       "0.6888379204892966"
      ]
     },
     "execution_count": 249,
     "metadata": {},
     "output_type": "execute_result"
    }
   ],
   "source": [
    "# Proportion of customers who have fiber optic and have churned to all of customers who have churned.\n",
    "901/1308"
   ]
  },
  {
   "cell_type": "code",
   "execution_count": 114,
   "metadata": {},
   "outputs": [
    {
     "data": {
      "text/plain": [
       "(68.199, 73.26]     103\n",
       "(73.26, 78.27]      114\n",
       "(78.27, 83.28]      113\n",
       "(83.28, 88.29]      118\n",
       "(88.29, 93.3]       101\n",
       "(93.3, 98.31]       129\n",
       "(98.31, 103.32]     115\n",
       "(103.32, 108.33]     78\n",
       "(108.33, 113.34]     23\n",
       "(113.34, 118.35]      7\n",
       "Name: monthly_charges, dtype: int64"
      ]
     },
     "execution_count": 114,
     "metadata": {},
     "output_type": "execute_result"
    }
   ],
   "source": [
    "# Fiber optic customers who churn monthly_charges\n",
    "f_c = train.monthly_charges[(train.churn == 'Yes') & (train.internet_service_type == 'Fiber optic')]\n",
    "f_c.value_counts(bins = 10).sort_index()"
   ]
  },
  {
   "cell_type": "code",
   "execution_count": 115,
   "metadata": {},
   "outputs": [
    {
     "data": {
      "text/plain": [
       "count    901.000000\n",
       "mean      88.160488\n",
       "std       11.802219\n",
       "min       68.250000\n",
       "25%       78.850000\n",
       "50%       88.350000\n",
       "75%       98.250000\n",
       "max      118.350000\n",
       "Name: monthly_charges, dtype: float64"
      ]
     },
     "execution_count": 115,
     "metadata": {},
     "output_type": "execute_result"
    }
   ],
   "source": [
    "f_c.describe()"
   ]
  },
  {
   "cell_type": "code",
   "execution_count": 116,
   "metadata": {},
   "outputs": [
    {
     "data": {
      "text/plain": [
       "(68.54899999999999, 73.6]     81\n",
       "(73.6, 78.6]                  91\n",
       "(78.6, 83.6]                 125\n",
       "(83.6, 88.6]                 110\n",
       "(88.6, 93.6]                 165\n",
       "(93.6, 98.6]                 175\n",
       "(98.6, 103.6]                155\n",
       "(103.6, 108.6]               178\n",
       "(108.6, 113.6]               112\n",
       "(113.6, 118.6]                64\n",
       "Name: monthly_charges, dtype: int64"
      ]
     },
     "execution_count": 116,
     "metadata": {},
     "output_type": "execute_result"
    }
   ],
   "source": [
    "# Fiber optic customers who do not churn monthly_charges\n",
    "f = train.monthly_charges[(train.churn == 'No') & (train.internet_service_type == 'Fiber optic')]\n",
    "f.value_counts(bins = 10).sort_index()"
   ]
  },
  {
   "cell_type": "code",
   "execution_count": 117,
   "metadata": {},
   "outputs": [
    {
     "data": {
      "text/plain": [
       "count    1256.000000\n",
       "mean       93.860430\n",
       "std        12.703798\n",
       "min        68.600000\n",
       "25%        84.300000\n",
       "50%        94.750000\n",
       "75%       104.400000\n",
       "max       118.600000\n",
       "Name: monthly_charges, dtype: float64"
      ]
     },
     "execution_count": 117,
     "metadata": {},
     "output_type": "execute_result"
    }
   ],
   "source": [
    "f.describe()"
   ]
  },
  {
   "cell_type": "code",
   "execution_count": 118,
   "metadata": {},
   "outputs": [
    {
     "data": {
      "text/plain": [
       "<matplotlib.legend.Legend at 0x1a20413b70>"
      ]
     },
     "execution_count": 118,
     "metadata": {},
     "output_type": "execute_result"
    },
    {
     "data": {
      "image/png": "[encoded data removed]",
      "text/plain": [
       "<Figure size 432x288 with 1 Axes>"
      ]
     },
     "metadata": {
      "needs_background": "light"
     },
     "output_type": "display_data"
    }
   ],
   "source": [
    "sns.distplot(f_c, kde = False, label = 'fiber_churn')\n",
    "sns.distplot(f, kde = False, label = 'fiber_not_churn')\n",
    "plt.legend()"
   ]
  },
  {
   "cell_type": "markdown",
   "metadata": {},
   "source": [
    "***Take Aways:*** Those who pay more for Fiber Optic do not seem to churn\n",
    "\n"
   ]
  },
  {
   "cell_type": "markdown",
   "metadata": {},
   "source": [
    "3. Is there a price threshold for specific services where the likelihood of churn increases once price for those services goes past that point? If so, what is that point for what service(s)?"
   ]
  },
  {
   "cell_type": "code",
   "execution_count": 119,
   "metadata": {},
   "outputs": [
    {
     "data": {
      "text/plain": [
       "count    1308.000000\n",
       "mean       74.176185\n",
       "std        24.912099\n",
       "min        18.850000\n",
       "25%        56.100000\n",
       "50%        79.650000\n",
       "75%        94.250000\n",
       "max       118.350000\n",
       "Name: monthly_charges, dtype: float64"
      ]
     },
     "execution_count": 119,
     "metadata": {},
     "output_type": "execute_result"
    }
   ],
   "source": [
    "train.monthly_charges[train.churn == 'Yes'].describe()"
   ]
  },
  {
   "cell_type": "code",
   "execution_count": 120,
   "metadata": {},
   "outputs": [
    {
     "data": {
      "text/plain": [
       "(18.75, 28.8]      0.087920\n",
       "(28.8, 38.75]      0.030581\n",
       "(38.75, 48.7]      0.059633\n",
       "(48.7, 58.65]      0.077217\n",
       "(58.65, 68.6]      0.029817\n",
       "(68.6, 78.55]      0.188838\n",
       "(78.55, 88.5]      0.184251\n",
       "(88.5, 98.45]      0.173547\n",
       "(98.45, 108.4]     0.146024\n",
       "(108.4, 118.35]    0.022171\n",
       "Name: monthly_charges, dtype: float64"
      ]
     },
     "execution_count": 120,
     "metadata": {},
     "output_type": "execute_result"
    }
   ],
   "source": [
    "y = train.monthly_charges[train.churn =='Yes'].value_counts(bins = 10).sort_index()/len(train[train.churn=='Yes'])\n",
    "y"
   ]
  },
  {
   "cell_type": "code",
   "execution_count": 121,
   "metadata": {},
   "outputs": [],
   "source": [
    "x = list(train.monthly_charges[train.churn =='Yes'].value_counts(bins = 10).sort_index().index)\n",
    "# x = list([i*10 for i in range(1,13)])\n",
    "# x"
   ]
  },
  {
   "cell_type": "code",
   "execution_count": 122,
   "metadata": {},
   "outputs": [
    {
     "data": {
      "image/png": "[encoded data removed]",
      "text/plain": [
       "<Figure size 432x288 with 1 Axes>"
      ]
     },
     "metadata": {
      "needs_background": "light"
     },
     "output_type": "display_data"
    }
   ],
   "source": [
    "sns.barplot(x,y, color = 'red')\n",
    "plt.ylabel('churn_rate')\n",
    "plt.xlabel('monthly_charges')\n",
    "plt.xticks(rotation = 90)\n",
    "plt.title('Rate of churn for monthly charges of churned customers')\n",
    "plt.show()"
   ]
  },
  {
   "cell_type": "code",
   "execution_count": 123,
   "metadata": {},
   "outputs": [
    {
     "data": {
      "text/plain": [
       "(68.199, 73.26]     0.078746\n",
       "(73.26, 78.27]      0.087156\n",
       "(78.27, 83.28]      0.086391\n",
       "(83.28, 88.29]      0.090214\n",
       "(88.29, 93.3]       0.077217\n",
       "(93.3, 98.31]       0.098624\n",
       "(98.31, 103.32]     0.087920\n",
       "(103.32, 108.33]    0.059633\n",
       "(108.33, 113.34]    0.017584\n",
       "(113.34, 118.35]    0.005352\n",
       "Name: monthly_charges, dtype: float64"
      ]
     },
     "execution_count": 123,
     "metadata": {},
     "output_type": "execute_result"
    }
   ],
   "source": [
    "y1 = train.monthly_charges[(train.churn =='Yes') & (train.internet_service_type == 'Fiber optic')].value_counts(bins = 10).sort_index()/len(train[train.churn=='Yes'])\n",
    "prop_churn_fiber = sum(y1)\n",
    "prop_churn_fiber\n",
    "y1"
   ]
  },
  {
   "cell_type": "code",
   "execution_count": 124,
   "metadata": {},
   "outputs": [],
   "source": [
    "x1 = list(train.monthly_charges[(train.churn =='Yes') & (train.internet_service_type == 'Fiber optic')].value_counts(bins = 10).sort_index().index)\n"
   ]
  },
  {
   "cell_type": "code",
   "execution_count": 125,
   "metadata": {},
   "outputs": [
    {
     "data": {
      "image/png": "[encoded data removed]",
      "text/plain": [
       "<Figure size 432x288 with 1 Axes>"
      ]
     },
     "metadata": {
      "needs_background": "light"
     },
     "output_type": "display_data"
    }
   ],
   "source": [
    "sns.barplot(x1,y1, color = 'blue' )\n",
    "plt.ylabel('churn_rate')\n",
    "plt.xlabel('monthly_charges')\n",
    "plt.xticks(rotation = 90)\n",
    "plt.title('Rate of churn for monthly charges of churned customers')\n",
    "plt.show()"
   ]
  },
  {
   "cell_type": "markdown",
   "metadata": {},
   "source": [
    "4. If we looked at churn rate for month-to-month customers after the 12th month and that of 1-year contract customers after the 12th month, are those rates comparable?"
   ]
  },
  {
   "cell_type": "code",
   "execution_count": 126,
   "metadata": {},
   "outputs": [
    {
     "data": {
      "text/plain": [
       "Month-to-month    0.879969\n",
       "One year          0.094801\n",
       "Two year          0.025229\n",
       "Name: contract_type, dtype: float64"
      ]
     },
     "execution_count": 126,
     "metadata": {},
     "output_type": "execute_result"
    }
   ],
   "source": [
    "#y = train.contract_type[train.churn =='Yes'].value_counts().sort_index()/len(train[train.churn=='Yes'])\n",
    "train.contract_type[train.churn =='Yes'].value_counts().sort_index()/len(train[train.churn=='Yes'])\n"
   ]
  },
  {
   "cell_type": "markdown",
   "metadata": {},
   "source": [
    "87% of our customers who churn have month to month contracts"
   ]
  },
  {
   "cell_type": "code",
   "execution_count": 127,
   "metadata": {},
   "outputs": [
    {
     "data": {
      "text/html": [
       "<div>\n",
       "<style scoped>\n",
       "    .dataframe tbody tr th:only-of-type {\n",
       "        vertical-align: middle;\n",
       "    }\n",
       "\n",
       "    .dataframe tbody tr th {\n",
       "        vertical-align: top;\n",
       "    }\n",
       "\n",
       "    .dataframe thead th {\n",
       "        text-align: right;\n",
       "    }\n",
       "</style>\n",
       "<table border=\"1\" class=\"dataframe\">\n",
       "  <thead>\n",
       "    <tr style=\"text-align: right;\">\n",
       "      <th></th>\n",
       "      <th>proportions</th>\n",
       "      <th>contract_type</th>\n",
       "    </tr>\n",
       "  </thead>\n",
       "  <tbody>\n",
       "    <tr>\n",
       "      <th>0</th>\n",
       "      <td>0.618502</td>\n",
       "      <td>Month-to-month</td>\n",
       "    </tr>\n",
       "    <tr>\n",
       "      <th>1</th>\n",
       "      <td>0.055046</td>\n",
       "      <td>One year</td>\n",
       "    </tr>\n",
       "    <tr>\n",
       "      <th>2</th>\n",
       "      <td>0.015291</td>\n",
       "      <td>Two year</td>\n",
       "    </tr>\n",
       "  </tbody>\n",
       "</table>\n",
       "</div>"
      ],
      "text/plain": [
       "   proportions   contract_type\n",
       "0     0.618502  Month-to-month\n",
       "1     0.055046        One year\n",
       "2     0.015291        Two year"
      ]
     },
     "execution_count": 127,
     "metadata": {},
     "output_type": "execute_result"
    }
   ],
   "source": [
    "fiber_contract_df = pd.DataFrame(train.contract_type[(train.churn =='Yes')\\\n",
    "                    & (train.internet_service_type == 'Fiber optic')]\\\n",
    "                    .value_counts().sort_index()/len(train[train.churn=='Yes'])).reset_index()\n",
    "fiber_contract_df['proportions'] = fiber_contract_df['contract_type']\n",
    "fiber_contract_df.drop(columns = 'contract_type',inplace = True)\n",
    "fiber_contract_df['contract_type'] = fiber_contract_df['index']\n",
    "fiber_contract_df.drop(columns = 'index', inplace = True)\n",
    "fiber_contract_df"
   ]
  },
  {
   "cell_type": "code",
   "execution_count": 128,
   "metadata": {},
   "outputs": [
    {
     "data": {
      "text/plain": [
       "Month-to-month    0.618502\n",
       "One year          0.055046\n",
       "Two year          0.015291\n",
       "Name: contract_type, dtype: float64"
      ]
     },
     "execution_count": 128,
     "metadata": {},
     "output_type": "execute_result"
    }
   ],
   "source": [
    "train.contract_type[(train.churn =='Yes')\\\n",
    "                    & (train.internet_service_type == 'Fiber optic')]\\\n",
    "                    .value_counts().sort_index()/len(train[train.churn=='Yes'])"
   ]
  },
  {
   "cell_type": "code",
   "execution_count": 129,
   "metadata": {},
   "outputs": [],
   "source": [
    "# Tenure for month-to-month contracts for customers who have Fiber optic,and churned."
   ]
  },
  {
   "cell_type": "code",
   "execution_count": 130,
   "metadata": {},
   "outputs": [
    {
     "data": {
      "text/plain": [
       "(0.93, 6.75]     0.463076\n",
       "(6.75, 12.5]     0.151173\n",
       "(12.5, 18.25]    0.105126\n",
       "(18.25, 24.0]    0.068636\n",
       "(24.0, 29.75]    0.041703\n",
       "(29.75, 35.5]    0.046047\n",
       "(35.5, 41.25]    0.036490\n",
       "(41.25, 47.0]    0.032146\n",
       "(47.0, 52.75]    0.019983\n",
       "(52.75, 58.5]    0.015639\n",
       "(58.5, 64.25]    0.008688\n",
       "(64.25, 70.0]    0.011295\n",
       "Name: tenure, dtype: float64"
      ]
     },
     "execution_count": 130,
     "metadata": {},
     "output_type": "execute_result"
    }
   ],
   "source": [
    "a = train.tenure[(train.churn == 'Yes')\\\n",
    "             & (train.contract_type == 'Month-to-month')]\\\n",
    "            .value_counts(bins =12).sort_index()\n",
    "a/sum(a)\n",
    "\n"
   ]
  },
  {
   "cell_type": "code",
   "execution_count": 131,
   "metadata": {},
   "outputs": [
    {
     "data": {
      "text/plain": [
       "809"
      ]
     },
     "execution_count": 131,
     "metadata": {},
     "output_type": "execute_result"
    }
   ],
   "source": [
    "sum(train.tenure[(train.churn == 'Yes')\\\n",
    "            & (train.contract_type == 'Month-to-month')\\\n",
    "            & (train.internet_service_type == 'Fiber optic')]\\\n",
    "            .value_counts(bins = 10).sort_index())"
   ]
  },
  {
   "cell_type": "code",
   "execution_count": 132,
   "metadata": {},
   "outputs": [
    {
     "data": {
      "text/plain": [
       "429"
      ]
     },
     "execution_count": 132,
     "metadata": {},
     "output_type": "execute_result"
    }
   ],
   "source": [
    "sum(train.tenure[(train.churn == 'Yes')\\\n",
    "            & (train.contract_type == 'Month-to-month')\\\n",
    "            & (train.internet_service_type == 'Fiber optic')\n",
    "            & (train.tenure < 12)]\\\n",
    "            .value_counts().sort_index())"
   ]
  },
  {
   "cell_type": "markdown",
   "metadata": {},
   "source": [
    "***Take Aways:*** Customers who have Fiber Optic month to month contracts over half who have churned have had tenure less than 12 months."
   ]
  },
  {
   "cell_type": "markdown",
   "metadata": {},
   "source": [
    "# Modeling\n",
    "\n"
   ]
  },
  {
   "cell_type": "code",
   "execution_count": 133,
   "metadata": {},
   "outputs": [
    {
     "name": "stdout",
     "output_type": "stream",
     "text": [
      "<class 'pandas.core.frame.DataFrame'>\n",
      "Index: 4922 entries, 8439-LTUGF to 2851-STERV\n",
      "Data columns (total 36 columns):\n",
      "payment_type_id              4922 non-null int64\n",
      "internet_service_type_id     4922 non-null int64\n",
      "contract_type_id             4922 non-null int64\n",
      "gender                       4922 non-null object\n",
      "senior_citizen               4922 non-null int64\n",
      "partner                      4922 non-null object\n",
      "dependents                   4922 non-null object\n",
      "tenure                       4922 non-null int64\n",
      "phone_service                4922 non-null object\n",
      "multiple_lines               4922 non-null object\n",
      "online_security              4922 non-null object\n",
      "online_backup                4922 non-null object\n",
      "device_protection            4922 non-null object\n",
      "tech_support                 4922 non-null object\n",
      "streaming_tv                 4922 non-null object\n",
      "streaming_movies             4922 non-null object\n",
      "paperless_billing            4922 non-null object\n",
      "monthly_charges              4922 non-null float64\n",
      "total_charges                4922 non-null float64\n",
      "churn                        4922 non-null object\n",
      "contract_type                4922 non-null object\n",
      "internet_service_type        4922 non-null object\n",
      "payment_type                 4922 non-null object\n",
      "tenure_years                 4922 non-null float64\n",
      "phone_and_multi_line         4922 non-null int64\n",
      "partner_dependents           4922 non-null int64\n",
      "Electronic check             4922 non-null float64\n",
      "Mailed check                 4922 non-null float64\n",
      "Bank transfer (automatic)    4922 non-null float64\n",
      "Credit card (automatic)      4922 non-null float64\n",
      "DSL                          4922 non-null float64\n",
      "Fiber optic                  4922 non-null float64\n",
      "None                         4922 non-null float64\n",
      "Month-to-month               4922 non-null float64\n",
      "One year                     4922 non-null float64\n",
      "Two year                     4922 non-null float64\n",
      "dtypes: float64(13), int64(7), object(16)\n",
      "memory usage: 1.4+ MB\n"
     ]
    }
   ],
   "source": [
    "train_ohe.info()\n",
    "# We need to change our target variable of 'churn' into a numberic value."
   ]
  },
  {
   "cell_type": "code",
   "execution_count": 134,
   "metadata": {},
   "outputs": [
    {
     "data": {
      "text/plain": [
       "No     3614\n",
       "Yes    1308\n",
       "Name: churn, dtype: int64"
      ]
     },
     "execution_count": 134,
     "metadata": {},
     "output_type": "execute_result"
    }
   ],
   "source": [
    "# To create churn as a numberic column of 0's and 1's create a list comprehension to run the values of the column through.\n",
    "train_ohe.churn.value_counts()"
   ]
  },
  {
   "cell_type": "code",
   "execution_count": 135,
   "metadata": {},
   "outputs": [],
   "source": [
    "train_ohe['churn'] = [0 if i == 'No' else 1 for i in train_ohe.churn]"
   ]
  },
  {
   "cell_type": "code",
   "execution_count": 136,
   "metadata": {},
   "outputs": [
    {
     "data": {
      "text/plain": [
       "0    3614\n",
       "1    1308\n",
       "Name: churn, dtype: int64"
      ]
     },
     "execution_count": 136,
     "metadata": {},
     "output_type": "execute_result"
    }
   ],
   "source": [
    "# Check the value counts\n",
    "train_ohe.churn.value_counts()"
   ]
  },
  {
   "cell_type": "code",
   "execution_count": 137,
   "metadata": {},
   "outputs": [],
   "source": [
    "# Create the train datasets\n",
    "X_train = train_ohe[['Electronic check',\n",
    "                      'Mailed check',\n",
    "                      'Bank transfer (automatic)',\n",
    "                      'Credit card (automatic)',\n",
    "                      'DSL',\n",
    "                      'Fiber optic',\n",
    "                      'None',\n",
    "                      'Month-to-month',\n",
    "                      'One year',\n",
    "                      'Two year',\n",
    "                      'monthly_charges',\n",
    "                      'tenure',\n",
    "                      'total_charges']]\n",
    "\n",
    "X_train2 = train_ohe[['payment_type_id',\n",
    "                      'contract_type_id',\n",
    "                      'internet_service_type_id',\n",
    "                      'senior_citizen',\n",
    "                      'tenure',\n",
    "                      'monthly_charges',\n",
    "                      'total_charges',\n",
    "                      'tenure_years']]\n",
    "\n",
    "y_train = train_ohe[['churn']]"
   ]
  },
  {
   "cell_type": "code",
   "execution_count": 138,
   "metadata": {},
   "outputs": [
    {
     "data": {
      "text/html": [
       "<div>\n",
       "<style scoped>\n",
       "    .dataframe tbody tr th:only-of-type {\n",
       "        vertical-align: middle;\n",
       "    }\n",
       "\n",
       "    .dataframe tbody tr th {\n",
       "        vertical-align: top;\n",
       "    }\n",
       "\n",
       "    .dataframe thead th {\n",
       "        text-align: right;\n",
       "    }\n",
       "</style>\n",
       "<table border=\"1\" class=\"dataframe\">\n",
       "  <thead>\n",
       "    <tr style=\"text-align: right;\">\n",
       "      <th></th>\n",
       "      <th>Electronic check</th>\n",
       "      <th>Mailed check</th>\n",
       "      <th>Bank transfer (automatic)</th>\n",
       "      <th>Credit card (automatic)</th>\n",
       "      <th>DSL</th>\n",
       "      <th>Fiber optic</th>\n",
       "      <th>None</th>\n",
       "      <th>Month-to-month</th>\n",
       "      <th>One year</th>\n",
       "      <th>Two year</th>\n",
       "      <th>monthly_charges</th>\n",
       "      <th>tenure</th>\n",
       "      <th>total_charges</th>\n",
       "    </tr>\n",
       "    <tr>\n",
       "      <th>customer_id</th>\n",
       "      <th></th>\n",
       "      <th></th>\n",
       "      <th></th>\n",
       "      <th></th>\n",
       "      <th></th>\n",
       "      <th></th>\n",
       "      <th></th>\n",
       "      <th></th>\n",
       "      <th></th>\n",
       "      <th></th>\n",
       "      <th></th>\n",
       "      <th></th>\n",
       "      <th></th>\n",
       "    </tr>\n",
       "  </thead>\n",
       "  <tbody>\n",
       "    <tr>\n",
       "      <th>8439-LTUGF</th>\n",
       "      <td>0.0</td>\n",
       "      <td>0.0</td>\n",
       "      <td>0.0</td>\n",
       "      <td>1.0</td>\n",
       "      <td>0.0</td>\n",
       "      <td>0.0</td>\n",
       "      <td>1.0</td>\n",
       "      <td>1.0</td>\n",
       "      <td>0.0</td>\n",
       "      <td>0.0</td>\n",
       "      <td>20.00</td>\n",
       "      <td>10</td>\n",
       "      <td>198.60</td>\n",
       "    </tr>\n",
       "    <tr>\n",
       "      <th>5339-PXDVH</th>\n",
       "      <td>1.0</td>\n",
       "      <td>0.0</td>\n",
       "      <td>0.0</td>\n",
       "      <td>0.0</td>\n",
       "      <td>0.0</td>\n",
       "      <td>1.0</td>\n",
       "      <td>0.0</td>\n",
       "      <td>1.0</td>\n",
       "      <td>0.0</td>\n",
       "      <td>0.0</td>\n",
       "      <td>90.65</td>\n",
       "      <td>4</td>\n",
       "      <td>367.95</td>\n",
       "    </tr>\n",
       "    <tr>\n",
       "      <th>9068-FHQHD</th>\n",
       "      <td>0.0</td>\n",
       "      <td>0.0</td>\n",
       "      <td>1.0</td>\n",
       "      <td>0.0</td>\n",
       "      <td>0.0</td>\n",
       "      <td>0.0</td>\n",
       "      <td>1.0</td>\n",
       "      <td>0.0</td>\n",
       "      <td>0.0</td>\n",
       "      <td>1.0</td>\n",
       "      <td>20.15</td>\n",
       "      <td>40</td>\n",
       "      <td>777.35</td>\n",
       "    </tr>\n",
       "    <tr>\n",
       "      <th>9475-NNDGC</th>\n",
       "      <td>0.0</td>\n",
       "      <td>0.0</td>\n",
       "      <td>1.0</td>\n",
       "      <td>0.0</td>\n",
       "      <td>0.0</td>\n",
       "      <td>1.0</td>\n",
       "      <td>0.0</td>\n",
       "      <td>0.0</td>\n",
       "      <td>1.0</td>\n",
       "      <td>0.0</td>\n",
       "      <td>113.15</td>\n",
       "      <td>71</td>\n",
       "      <td>7953.25</td>\n",
       "    </tr>\n",
       "    <tr>\n",
       "      <th>7268-IGMFD</th>\n",
       "      <td>0.0</td>\n",
       "      <td>0.0</td>\n",
       "      <td>1.0</td>\n",
       "      <td>0.0</td>\n",
       "      <td>0.0</td>\n",
       "      <td>1.0</td>\n",
       "      <td>0.0</td>\n",
       "      <td>1.0</td>\n",
       "      <td>0.0</td>\n",
       "      <td>0.0</td>\n",
       "      <td>93.90</td>\n",
       "      <td>18</td>\n",
       "      <td>1743.90</td>\n",
       "    </tr>\n",
       "  </tbody>\n",
       "</table>\n",
       "</div>"
      ],
      "text/plain": [
       "             Electronic check  Mailed check  Bank transfer (automatic)  \\\n",
       "customer_id                                                              \n",
       "8439-LTUGF                0.0           0.0                        0.0   \n",
       "5339-PXDVH                1.0           0.0                        0.0   \n",
       "9068-FHQHD                0.0           0.0                        1.0   \n",
       "9475-NNDGC                0.0           0.0                        1.0   \n",
       "7268-IGMFD                0.0           0.0                        1.0   \n",
       "\n",
       "             Credit card (automatic)  DSL  Fiber optic  None  Month-to-month  \\\n",
       "customer_id                                                                    \n",
       "8439-LTUGF                       1.0  0.0          0.0   1.0             1.0   \n",
       "5339-PXDVH                       0.0  0.0          1.0   0.0             1.0   \n",
       "9068-FHQHD                       0.0  0.0          0.0   1.0             0.0   \n",
       "9475-NNDGC                       0.0  0.0          1.0   0.0             0.0   \n",
       "7268-IGMFD                       0.0  0.0          1.0   0.0             1.0   \n",
       "\n",
       "             One year  Two year  monthly_charges  tenure  total_charges  \n",
       "customer_id                                                              \n",
       "8439-LTUGF        0.0       0.0            20.00      10         198.60  \n",
       "5339-PXDVH        0.0       0.0            90.65       4         367.95  \n",
       "9068-FHQHD        0.0       1.0            20.15      40         777.35  \n",
       "9475-NNDGC        1.0       0.0           113.15      71        7953.25  \n",
       "7268-IGMFD        0.0       0.0            93.90      18        1743.90  "
      ]
     },
     "execution_count": 138,
     "metadata": {},
     "output_type": "execute_result"
    }
   ],
   "source": [
    "# Look at our X_train.head()\n",
    "X_train.head()"
   ]
  },
  {
   "cell_type": "code",
   "execution_count": 139,
   "metadata": {},
   "outputs": [
    {
     "data": {
      "text/plain": [
       "0    3614\n",
       "1    1308\n",
       "Name: churn, dtype: int64"
      ]
     },
     "execution_count": 139,
     "metadata": {},
     "output_type": "execute_result"
    }
   ],
   "source": [
    "# Check our target variable values.\n",
    "y_train.churn.value_counts()"
   ]
  },
  {
   "cell_type": "markdown",
   "metadata": {},
   "source": [
    "## Logistic Regression Model"
   ]
  },
  {
   "cell_type": "code",
   "execution_count": 140,
   "metadata": {},
   "outputs": [],
   "source": [
    "# Create Logistic Regression model\n",
    "logit = LogisticRegression(C=1, class_weight={1:2}, random_state = 123, solver='saga')\n",
    "logit2 = LogisticRegression(C=1, class_weight={1:2}, random_state = 123, solver='saga')\n"
   ]
  },
  {
   "cell_type": "code",
   "execution_count": 142,
   "metadata": {},
   "outputs": [
    {
     "data": {
      "text/plain": [
       "LogisticRegression(C=1, class_weight={1: 2}, dual=False, fit_intercept=True,\n",
       "                   intercept_scaling=1, l1_ratio=None, max_iter=100,\n",
       "                   multi_class='warn', n_jobs=None, penalty='l2',\n",
       "                   random_state=123, solver='saga', tol=0.0001, verbose=0,\n",
       "                   warm_start=False)"
      ]
     },
     "execution_count": 142,
     "metadata": {},
     "output_type": "execute_result"
    }
   ],
   "source": [
    "# fit model to train data\n",
    "logit.fit(X_train,y_train)\n",
    "logit2.fit(X_train2,y_train)"
   ]
  },
  {
   "cell_type": "code",
   "execution_count": 143,
   "metadata": {},
   "outputs": [],
   "source": [
    "y_pred = logit.predict(X_train)\n",
    "y_pred2 = logit2.predict(X_train2)"
   ]
  },
  {
   "cell_type": "code",
   "execution_count": 144,
   "metadata": {},
   "outputs": [
    {
     "data": {
      "text/plain": [
       "(0.7003250711093052, 0.7031694433157253)"
      ]
     },
     "execution_count": 144,
     "metadata": {},
     "output_type": "execute_result"
    }
   ],
   "source": [
    "accuracy = logit.score(X_train,y_train)\n",
    "accuracy2 = logit2.score(X_train2,y_train)\n",
    "accuracy, accuracy2"
   ]
  },
  {
   "cell_type": "code",
   "execution_count": 145,
   "metadata": {},
   "outputs": [
    {
     "data": {
      "text/plain": [
       "array([[2490, 1124],\n",
       "       [ 351,  957]])"
      ]
     },
     "execution_count": 145,
     "metadata": {},
     "output_type": "execute_result"
    }
   ],
   "source": [
    "confusion_matrix(y_train, y_pred)"
   ]
  },
  {
   "cell_type": "code",
   "execution_count": 146,
   "metadata": {
    "scrolled": false
   },
   "outputs": [
    {
     "data": {
      "text/plain": [
       "array([[2503, 1111],\n",
       "       [ 350,  958]])"
      ]
     },
     "execution_count": 146,
     "metadata": {},
     "output_type": "execute_result"
    }
   ],
   "source": [
    "confusion_matrix(y_train,y_pred2)"
   ]
  },
  {
   "cell_type": "code",
   "execution_count": 147,
   "metadata": {},
   "outputs": [
    {
     "name": "stdout",
     "output_type": "stream",
     "text": [
      "              precision    recall  f1-score   support\n",
      "\n",
      "           0       0.88      0.69      0.77      3614\n",
      "           1       0.46      0.73      0.57      1308\n",
      "\n",
      "    accuracy                           0.70      4922\n",
      "   macro avg       0.67      0.71      0.67      4922\n",
      "weighted avg       0.77      0.70      0.72      4922\n",
      "\n"
     ]
    }
   ],
   "source": [
    "print(classification_report(y_train,y_pred2))"
   ]
  },
  {
   "cell_type": "markdown",
   "metadata": {},
   "source": [
    "## Decision tree model"
   ]
  },
  {
   "cell_type": "code",
   "execution_count": 148,
   "metadata": {},
   "outputs": [],
   "source": [
    "clf = DecisionTreeClassifier(criterion = 'entropy', max_depth = 5, random_state = 123)\n",
    "clf2 = DecisionTreeClassifier(criterion = 'entropy', max_depth = 5, random_state = 123)"
   ]
  },
  {
   "cell_type": "code",
   "execution_count": 149,
   "metadata": {},
   "outputs": [
    {
     "data": {
      "text/plain": [
       "DecisionTreeClassifier(class_weight=None, criterion='entropy', max_depth=5,\n",
       "                       max_features=None, max_leaf_nodes=None,\n",
       "                       min_impurity_decrease=0.0, min_impurity_split=None,\n",
       "                       min_samples_leaf=1, min_samples_split=2,\n",
       "                       min_weight_fraction_leaf=0.0, presort=False,\n",
       "                       random_state=123, splitter='best')"
      ]
     },
     "execution_count": 149,
     "metadata": {},
     "output_type": "execute_result"
    }
   ],
   "source": [
    "clf.fit(X_train, y_train)\n",
    "clf2.fit(X_train2, y_train)"
   ]
  },
  {
   "cell_type": "code",
   "execution_count": 150,
   "metadata": {},
   "outputs": [],
   "source": [
    "y_pred_dt = clf.predict(X_train)\n",
    "y_pred_dt2 = clf2.predict(X_train2)"
   ]
  },
  {
   "cell_type": "code",
   "execution_count": 151,
   "metadata": {},
   "outputs": [
    {
     "data": {
      "text/plain": [
       "0.8031288094270622"
      ]
     },
     "execution_count": 151,
     "metadata": {},
     "output_type": "execute_result"
    }
   ],
   "source": [
    "clf.score(X_train,y_train)"
   ]
  },
  {
   "cell_type": "code",
   "execution_count": 152,
   "metadata": {},
   "outputs": [
    {
     "data": {
      "text/plain": [
       "0.7982527427874848"
      ]
     },
     "execution_count": 152,
     "metadata": {},
     "output_type": "execute_result"
    }
   ],
   "source": [
    "clf2.score(X_train2,y_train)"
   ]
  },
  {
   "cell_type": "code",
   "execution_count": 153,
   "metadata": {},
   "outputs": [
    {
     "data": {
      "text/plain": [
       "array([[3285,  329],\n",
       "       [ 640,  668]])"
      ]
     },
     "execution_count": 153,
     "metadata": {},
     "output_type": "execute_result"
    }
   ],
   "source": [
    "confusion_matrix(y_train,y_pred_dt)"
   ]
  },
  {
   "cell_type": "code",
   "execution_count": 154,
   "metadata": {},
   "outputs": [
    {
     "data": {
      "text/plain": [
       "array([[3253,  361],\n",
       "       [ 632,  676]])"
      ]
     },
     "execution_count": 154,
     "metadata": {},
     "output_type": "execute_result"
    }
   ],
   "source": [
    "confusion_matrix(y_train,y_pred_dt2)"
   ]
  },
  {
   "cell_type": "code",
   "execution_count": 155,
   "metadata": {},
   "outputs": [
    {
     "name": "stdout",
     "output_type": "stream",
     "text": [
      "              precision    recall  f1-score   support\n",
      "\n",
      "           0       0.84      0.91      0.87      3614\n",
      "           1       0.67      0.51      0.58      1308\n",
      "\n",
      "    accuracy                           0.80      4922\n",
      "   macro avg       0.75      0.71      0.73      4922\n",
      "weighted avg       0.79      0.80      0.79      4922\n",
      "\n"
     ]
    }
   ],
   "source": [
    "print(classification_report(y_train, y_pred_dt))"
   ]
  },
  {
   "cell_type": "markdown",
   "metadata": {},
   "source": [
    "## Random Forest"
   ]
  },
  {
   "cell_type": "code",
   "execution_count": 156,
   "metadata": {},
   "outputs": [],
   "source": [
    "rf = RandomForestClassifier(bootstrap=True, \n",
    "                            class_weight=None, \n",
    "                            criterion='entropy',\n",
    "                            min_samples_leaf=5,\n",
    "                            n_estimators=100,\n",
    "                            max_depth=3, \n",
    "                            random_state=123)\n",
    "\n",
    "rf2 = RandomForestClassifier(bootstrap=True, \n",
    "                            class_weight=None, \n",
    "                            criterion='entropy',\n",
    "                            min_samples_leaf=5,\n",
    "                            n_estimators=100,\n",
    "                            max_depth=3, \n",
    "                            random_state=123)"
   ]
  },
  {
   "cell_type": "code",
   "execution_count": 157,
   "metadata": {
    "scrolled": true
   },
   "outputs": [
    {
     "data": {
      "text/plain": [
       "RandomForestClassifier(bootstrap=True, class_weight=None, criterion='entropy',\n",
       "                       max_depth=3, max_features='auto', max_leaf_nodes=None,\n",
       "                       min_impurity_decrease=0.0, min_impurity_split=None,\n",
       "                       min_samples_leaf=5, min_samples_split=2,\n",
       "                       min_weight_fraction_leaf=0.0, n_estimators=100,\n",
       "                       n_jobs=None, oob_score=False, random_state=123,\n",
       "                       verbose=0, warm_start=False)"
      ]
     },
     "execution_count": 157,
     "metadata": {},
     "output_type": "execute_result"
    }
   ],
   "source": [
    "rf.fit(X_train,y_train)\n",
    "rf2.fit(X_train2,y_train)"
   ]
  },
  {
   "cell_type": "code",
   "execution_count": 158,
   "metadata": {},
   "outputs": [
    {
     "data": {
      "text/plain": [
       "array([0.08249056, 0.27710103, 0.10101679, 0.00614865, 0.18581114,\n",
       "       0.11608228, 0.06651757, 0.16483197])"
      ]
     },
     "execution_count": 158,
     "metadata": {},
     "output_type": "execute_result"
    }
   ],
   "source": [
    "rf.feature_importances_\n",
    "rf2.feature_importances_"
   ]
  },
  {
   "cell_type": "code",
   "execution_count": 159,
   "metadata": {},
   "outputs": [],
   "source": [
    "y_pred_rf = rf.predict(X_train)\n",
    "y_pred_rf2 = rf2.predict(X_train2)"
   ]
  },
  {
   "cell_type": "code",
   "execution_count": 160,
   "metadata": {},
   "outputs": [
    {
     "data": {
      "text/plain": [
       "(0.7846403900853312, 0.7901259650548558)"
      ]
     },
     "execution_count": 160,
     "metadata": {},
     "output_type": "execute_result"
    }
   ],
   "source": [
    "rf.score(X_train, y_train), rf2.score(X_train2,y_train)"
   ]
  },
  {
   "cell_type": "code",
   "execution_count": 161,
   "metadata": {
    "scrolled": true
   },
   "outputs": [
    {
     "data": {
      "text/plain": [
       "array([[3419,  195],\n",
       "       [ 865,  443]])"
      ]
     },
     "execution_count": 161,
     "metadata": {},
     "output_type": "execute_result"
    }
   ],
   "source": [
    "confusion_matrix(y_train, y_pred_rf)"
   ]
  },
  {
   "cell_type": "code",
   "execution_count": 162,
   "metadata": {},
   "outputs": [
    {
     "data": {
      "text/plain": [
       "array([[3389,  225],\n",
       "       [ 808,  500]])"
      ]
     },
     "execution_count": 162,
     "metadata": {},
     "output_type": "execute_result"
    }
   ],
   "source": [
    "confusion_matrix(y_train,y_pred_rf2)"
   ]
  },
  {
   "cell_type": "code",
   "execution_count": 163,
   "metadata": {},
   "outputs": [
    {
     "name": "stdout",
     "output_type": "stream",
     "text": [
      "              precision    recall  f1-score   support\n",
      "\n",
      "           0       0.81      0.94      0.87      3614\n",
      "           1       0.69      0.38      0.49      1308\n",
      "\n",
      "    accuracy                           0.79      4922\n",
      "   macro avg       0.75      0.66      0.68      4922\n",
      "weighted avg       0.78      0.79      0.77      4922\n",
      "\n"
     ]
    }
   ],
   "source": [
    "print(classification_report(y_train,y_pred_rf2))"
   ]
  },
  {
   "cell_type": "markdown",
   "metadata": {},
   "source": [
    "## KNN"
   ]
  },
  {
   "cell_type": "code",
   "execution_count": 164,
   "metadata": {},
   "outputs": [],
   "source": [
    "# Want to avoid too many dimensions will only select based on internet service fiber optic, contract type, tenure.\n",
    "X_train_mod = train_ohe[['Fiber optic',\n",
    "                      'Month-to-month',\n",
    "                      'tenure',\n",
    "                      'total_charges']]"
   ]
  },
  {
   "cell_type": "code",
   "execution_count": 165,
   "metadata": {},
   "outputs": [],
   "source": [
    "# Create KNN object\n",
    "knn = KNeighborsClassifier(n_neighbors=5, weights='uniform')\n",
    "knn2 = KNeighborsClassifier(n_neighbors=5, weights='uniform')\n",
    "knn_mod = KNeighborsClassifier(n_neighbors=5, weights='uniform')"
   ]
  },
  {
   "cell_type": "code",
   "execution_count": 166,
   "metadata": {},
   "outputs": [
    {
     "data": {
      "text/plain": [
       "KNeighborsClassifier(algorithm='auto', leaf_size=30, metric='minkowski',\n",
       "                     metric_params=None, n_jobs=None, n_neighbors=5, p=2,\n",
       "                     weights='uniform')"
      ]
     },
     "execution_count": 166,
     "metadata": {},
     "output_type": "execute_result"
    }
   ],
   "source": [
    "knn.fit(X_train,y_train)\n",
    "knn2.fit(X_train2,y_train)\n",
    "knn_mod.fit(X_train_mod,y_train)"
   ]
  },
  {
   "cell_type": "code",
   "execution_count": 167,
   "metadata": {},
   "outputs": [],
   "source": [
    "y_pred_knn = knn.predict(X_train)\n",
    "y_pred_knn2 = knn2.predict(X_train2)\n",
    "y_pred_knn_mod = knn_mod.predict(X_train_mod)"
   ]
  },
  {
   "cell_type": "code",
   "execution_count": 168,
   "metadata": {},
   "outputs": [
    {
     "data": {
      "text/plain": [
       "(0.8264932954083706, 0.8264932954083706, 0.8226330759853718)"
      ]
     },
     "execution_count": 168,
     "metadata": {},
     "output_type": "execute_result"
    }
   ],
   "source": [
    "knn.score(X_train,y_train), knn2.score(X_train2,y_train), knn_mod.score(X_train_mod,y_train)"
   ]
  },
  {
   "cell_type": "code",
   "execution_count": 169,
   "metadata": {},
   "outputs": [
    {
     "data": {
      "text/plain": [
       "array([[3347,  267],\n",
       "       [ 587,  721]])"
      ]
     },
     "execution_count": 169,
     "metadata": {},
     "output_type": "execute_result"
    }
   ],
   "source": [
    "confusion_matrix(y_train, y_pred_knn)"
   ]
  },
  {
   "cell_type": "code",
   "execution_count": 170,
   "metadata": {},
   "outputs": [
    {
     "data": {
      "text/plain": [
       "array([[3344,  270],\n",
       "       [ 584,  724]])"
      ]
     },
     "execution_count": 170,
     "metadata": {},
     "output_type": "execute_result"
    }
   ],
   "source": [
    "confusion_matrix(y_train, y_pred_knn2)"
   ]
  },
  {
   "cell_type": "code",
   "execution_count": 171,
   "metadata": {},
   "outputs": [
    {
     "name": "stdout",
     "output_type": "stream",
     "text": [
      "              precision    recall  f1-score   support\n",
      "\n",
      "           0       0.85      0.93      0.89      3614\n",
      "           1       0.73      0.55      0.63      1308\n",
      "\n",
      "    accuracy                           0.83      4922\n",
      "   macro avg       0.79      0.74      0.76      4922\n",
      "weighted avg       0.82      0.83      0.82      4922\n",
      "\n"
     ]
    }
   ],
   "source": [
    "print(classification_report(y_train,y_pred_knn))"
   ]
  },
  {
   "cell_type": "markdown",
   "metadata": {},
   "source": [
    "***Insights:*** We want to look at factors where the rate of churn is more likely. We found those characteristics in internet_service_type, payment_type, contract_type the strongest. We also found higher rates of churn in the subgroups of senior_citizen, and online_security. To evaluate our results we will need to look at the confusion matrix, and classification reports of our models. From the confusion matrices we find that there are trade offs we get the most accuracy from K nearest neighbors, but we we are able to more accurately predict true churn in logistic regression."
   ]
  },
  {
   "cell_type": "markdown",
   "metadata": {},
   "source": [
    "***For improvement*** Keep exploring variables and where churn happens within those. Begin to refine variable selection into models, such as internet service type, and security."
   ]
  },
  {
   "cell_type": "markdown",
   "metadata": {},
   "source": [
    "### Simulation models"
   ]
  },
  {
   "cell_type": "code",
   "execution_count": 172,
   "metadata": {},
   "outputs": [],
   "source": [
    "# If we predict no one to churn:\n",
    "y_sim = [0 for i in range(0,len(train.churn))]"
   ]
  },
  {
   "cell_type": "code",
   "execution_count": 173,
   "metadata": {},
   "outputs": [
    {
     "name": "stdout",
     "output_type": "stream",
     "text": [
      "              precision    recall  f1-score   support\n",
      "\n",
      "           0       0.73      1.00      0.85      3614\n",
      "           1       0.00      0.00      0.00      1308\n",
      "\n",
      "    accuracy                           0.73      4922\n",
      "   macro avg       0.37      0.50      0.42      4922\n",
      "weighted avg       0.54      0.73      0.62      4922\n",
      "\n"
     ]
    }
   ],
   "source": [
    "print(classification_report(y_train,y_sim))"
   ]
  },
  {
   "cell_type": "code",
   "execution_count": 200,
   "metadata": {},
   "outputs": [
    {
     "data": {
      "text/plain": [
       "array([[0.82309427],\n",
       "       [0.2154426 ],\n",
       "       [0.57862387],\n",
       "       [0.28774288],\n",
       "       [0.75881104]])"
      ]
     },
     "execution_count": 200,
     "metadata": {},
     "output_type": "execute_result"
    }
   ],
   "source": [
    "# Selecting a random number between 0 and 1 for 4922 trials (same as test data)\n",
    "a = np.random.random((4922,1))\n",
    "a[0:5]"
   ]
  },
  {
   "cell_type": "code",
   "execution_count": 210,
   "metadata": {},
   "outputs": [],
   "source": [
    "# Establish the population churn_rate\n",
    "churn_rate = len(train.churn[train.churn == 'Yes'])/len(train.churn)"
   ]
  },
  {
   "cell_type": "code",
   "execution_count": 211,
   "metadata": {},
   "outputs": [
    {
     "data": {
      "text/plain": [
       "0.2657456318569687"
      ]
     },
     "execution_count": 211,
     "metadata": {},
     "output_type": "execute_result"
    }
   ],
   "source": [
    "# Where number is less than churn rate we will call that a \"success\" (the customer churned)\n",
    "\n",
    "t = (a < churn_rate).sum(axis = 1)\n",
    "t\n",
    "churn_rate"
   ]
  },
  {
   "cell_type": "code",
   "execution_count": 212,
   "metadata": {},
   "outputs": [
    {
     "name": "stdout",
     "output_type": "stream",
     "text": [
      "              precision    recall  f1-score   support\n",
      "\n",
      "           0       0.73      0.74      0.74      3614\n",
      "           1       0.27      0.26      0.26      1308\n",
      "\n",
      "    accuracy                           0.61      4922\n",
      "   macro avg       0.50      0.50      0.50      4922\n",
      "weighted avg       0.61      0.61      0.61      4922\n",
      "\n"
     ]
    }
   ],
   "source": [
    "print(classification_report(y_train, t))"
   ]
  },
  {
   "cell_type": "markdown",
   "metadata": {},
   "source": [
    "## Test Data"
   ]
  },
  {
   "cell_type": "code",
   "execution_count": 177,
   "metadata": {},
   "outputs": [],
   "source": [
    "test_ohe['churn'] = [0 if i == 'No' else 1 for i in test_ohe.churn]\n",
    "                     "
   ]
  },
  {
   "cell_type": "code",
   "execution_count": 178,
   "metadata": {},
   "outputs": [
    {
     "data": {
      "text/plain": [
       "0    1549\n",
       "1     561\n",
       "Name: churn, dtype: int64"
      ]
     },
     "execution_count": 178,
     "metadata": {},
     "output_type": "execute_result"
    }
   ],
   "source": [
    "test_ohe.churn.value_counts()"
   ]
  },
  {
   "cell_type": "code",
   "execution_count": 179,
   "metadata": {},
   "outputs": [],
   "source": [
    "X_test = test_ohe[['Electronic check',\n",
    "                      'Mailed check',\n",
    "                      'Bank transfer (automatic)',\n",
    "                      'Credit card (automatic)',\n",
    "                      'DSL',\n",
    "                      'Fiber optic',\n",
    "                      'None',\n",
    "                      'Month-to-month',\n",
    "                      'One year',\n",
    "                      'Two year',\n",
    "                      'monthly_charges',\n",
    "                      'tenure',\n",
    "                      'total_charges']]\n",
    "\n",
    "y_test = test_ohe[['churn']]"
   ]
  },
  {
   "cell_type": "code",
   "execution_count": 180,
   "metadata": {},
   "outputs": [],
   "source": [
    "logit = LogisticRegression(C=1, class_weight={1:2}, random_state = 123, solver='saga')\n"
   ]
  },
  {
   "cell_type": "code",
   "execution_count": 181,
   "metadata": {},
   "outputs": [
    {
     "data": {
      "text/plain": [
       "LogisticRegression(C=1, class_weight={1: 2}, dual=False, fit_intercept=True,\n",
       "                   intercept_scaling=1, l1_ratio=None, max_iter=100,\n",
       "                   multi_class='warn', n_jobs=None, penalty='l2',\n",
       "                   random_state=123, solver='saga', tol=0.0001, verbose=0,\n",
       "                   warm_start=False)"
      ]
     },
     "execution_count": 181,
     "metadata": {},
     "output_type": "execute_result"
    }
   ],
   "source": [
    "logit.fit(X_test,y_test)"
   ]
  },
  {
   "cell_type": "code",
   "execution_count": 182,
   "metadata": {},
   "outputs": [],
   "source": [
    "y_pred_test = logit.predict(X_test)"
   ]
  },
  {
   "cell_type": "code",
   "execution_count": 183,
   "metadata": {},
   "outputs": [
    {
     "data": {
      "text/plain": [
       "0.6815165876777252"
      ]
     },
     "execution_count": 183,
     "metadata": {},
     "output_type": "execute_result"
    }
   ],
   "source": [
    "logit.score(X_test,y_test)"
   ]
  },
  {
   "cell_type": "code",
   "execution_count": 184,
   "metadata": {},
   "outputs": [
    {
     "name": "stdout",
     "output_type": "stream",
     "text": [
      "              precision    recall  f1-score   support\n",
      "\n",
      "           0       0.88      0.66      0.75      1549\n",
      "           1       0.44      0.75      0.56       561\n",
      "\n",
      "    accuracy                           0.68      2110\n",
      "   macro avg       0.66      0.70      0.65      2110\n",
      "weighted avg       0.76      0.68      0.70      2110\n",
      "\n"
     ]
    }
   ],
   "source": [
    "print(classification_report(y_test,y_pred_test))"
   ]
  },
  {
   "cell_type": "markdown",
   "metadata": {},
   "source": [
    "***These recall scores are similar to our recall scores with the train data set***"
   ]
  },
  {
   "cell_type": "code",
   "execution_count": 185,
   "metadata": {},
   "outputs": [
    {
     "name": "stdout",
     "output_type": "stream",
     "text": [
      "<class 'pandas.core.frame.DataFrame'>\n",
      "Index: 7032 entries, 0003-MKNFE to 9975-GPKZU\n",
      "Data columns (total 36 columns):\n",
      "payment_type_id              7032 non-null int64\n",
      "internet_service_type_id     7032 non-null int64\n",
      "contract_type_id             7032 non-null int64\n",
      "gender                       7032 non-null object\n",
      "senior_citizen               7032 non-null int64\n",
      "partner                      7032 non-null object\n",
      "dependents                   7032 non-null object\n",
      "tenure                       7032 non-null int64\n",
      "phone_service                7032 non-null object\n",
      "multiple_lines               7032 non-null object\n",
      "online_security              7032 non-null object\n",
      "online_backup                7032 non-null object\n",
      "device_protection            7032 non-null object\n",
      "tech_support                 7032 non-null object\n",
      "streaming_tv                 7032 non-null object\n",
      "streaming_movies             7032 non-null object\n",
      "paperless_billing            7032 non-null object\n",
      "monthly_charges              7032 non-null float64\n",
      "total_charges                7032 non-null float64\n",
      "churn                        7032 non-null object\n",
      "contract_type                7032 non-null object\n",
      "internet_service_type        7032 non-null object\n",
      "payment_type                 7032 non-null object\n",
      "tenure_years                 7032 non-null float64\n",
      "phone_and_multi_line         7032 non-null int64\n",
      "partner_dependents           7032 non-null int64\n",
      "Electronic check             7032 non-null float64\n",
      "Mailed check                 7032 non-null float64\n",
      "Bank transfer (automatic)    7032 non-null float64\n",
      "Credit card (automatic)      7032 non-null float64\n",
      "DSL                          7032 non-null float64\n",
      "Fiber optic                  7032 non-null float64\n",
      "None                         7032 non-null float64\n",
      "Month-to-month               7032 non-null float64\n",
      "One year                     7032 non-null float64\n",
      "Two year                     7032 non-null float64\n",
      "dtypes: float64(13), int64(7), object(16)\n",
      "memory usage: 2.3+ MB\n"
     ]
    }
   ],
   "source": [
    "# Create our probability predictions for the entire df.\n",
    "\n",
    "st = prepare.ohe_df\n",
    "st.info()"
   ]
  },
  {
   "cell_type": "code",
   "execution_count": 186,
   "metadata": {},
   "outputs": [
    {
     "data": {
      "text/plain": [
       "No     5163\n",
       "Yes    1869\n",
       "Name: churn, dtype: int64"
      ]
     },
     "execution_count": 186,
     "metadata": {},
     "output_type": "execute_result"
    }
   ],
   "source": [
    "st.churn.value_counts()"
   ]
  },
  {
   "cell_type": "code",
   "execution_count": 187,
   "metadata": {},
   "outputs": [],
   "source": [
    "st['churn'] = [0 if i == 'No' else 1 for i in st.churn]"
   ]
  },
  {
   "cell_type": "code",
   "execution_count": 188,
   "metadata": {},
   "outputs": [
    {
     "data": {
      "text/plain": [
       "0    5163\n",
       "1    1869\n",
       "Name: churn, dtype: int64"
      ]
     },
     "execution_count": 188,
     "metadata": {},
     "output_type": "execute_result"
    }
   ],
   "source": [
    "st.churn.value_counts()"
   ]
  },
  {
   "cell_type": "code",
   "execution_count": 189,
   "metadata": {},
   "outputs": [],
   "source": [
    "y = st[['churn']]\n",
    "X = st[['Electronic check',\n",
    "        'Mailed check',\n",
    "        'Bank transfer (automatic)',\n",
    "        'Credit card (automatic)',\n",
    "        'DSL',\n",
    "        'Fiber optic',\n",
    "        'None',\n",
    "        'Month-to-month',\n",
    "        'One year',\n",
    "        'Two year',\n",
    "        'monthly_charges',\n",
    "        'tenure',\n",
    "        'total_charges']]"
   ]
  },
  {
   "cell_type": "code",
   "execution_count": 190,
   "metadata": {},
   "outputs": [],
   "source": [
    "logit = LogisticRegression(C=1, class_weight={1:2}, random_state = 123, solver='saga')\n"
   ]
  },
  {
   "cell_type": "code",
   "execution_count": 191,
   "metadata": {},
   "outputs": [
    {
     "data": {
      "text/plain": [
       "LogisticRegression(C=1, class_weight={1: 2}, dual=False, fit_intercept=True,\n",
       "                   intercept_scaling=1, l1_ratio=None, max_iter=100,\n",
       "                   multi_class='warn', n_jobs=None, penalty='l2',\n",
       "                   random_state=123, solver='saga', tol=0.0001, verbose=0,\n",
       "                   warm_start=False)"
      ]
     },
     "execution_count": 191,
     "metadata": {},
     "output_type": "execute_result"
    }
   ],
   "source": [
    "logit.fit(X,y)"
   ]
  },
  {
   "cell_type": "code",
   "execution_count": 192,
   "metadata": {
    "scrolled": true
   },
   "outputs": [
    {
     "data": {
      "text/html": [
       "<div>\n",
       "<style scoped>\n",
       "    .dataframe tbody tr th:only-of-type {\n",
       "        vertical-align: middle;\n",
       "    }\n",
       "\n",
       "    .dataframe tbody tr th {\n",
       "        vertical-align: top;\n",
       "    }\n",
       "\n",
       "    .dataframe thead th {\n",
       "        text-align: right;\n",
       "    }\n",
       "</style>\n",
       "<table border=\"1\" class=\"dataframe\">\n",
       "  <thead>\n",
       "    <tr style=\"text-align: right;\">\n",
       "      <th></th>\n",
       "      <th>y_pred</th>\n",
       "    </tr>\n",
       "    <tr>\n",
       "      <th>customer_id</th>\n",
       "      <th></th>\n",
       "    </tr>\n",
       "  </thead>\n",
       "  <tbody>\n",
       "    <tr>\n",
       "      <th>0003-MKNFE</th>\n",
       "      <td>1</td>\n",
       "    </tr>\n",
       "    <tr>\n",
       "      <th>0013-MHZWF</th>\n",
       "      <td>1</td>\n",
       "    </tr>\n",
       "    <tr>\n",
       "      <th>0015-UOCOJ</th>\n",
       "      <td>1</td>\n",
       "    </tr>\n",
       "    <tr>\n",
       "      <th>0023-HGHWL</th>\n",
       "      <td>1</td>\n",
       "    </tr>\n",
       "    <tr>\n",
       "      <th>0032-PGELS</th>\n",
       "      <td>1</td>\n",
       "    </tr>\n",
       "    <tr>\n",
       "      <th>0067-DKWBL</th>\n",
       "      <td>1</td>\n",
       "    </tr>\n",
       "    <tr>\n",
       "      <th>0076-LVEPS</th>\n",
       "      <td>0</td>\n",
       "    </tr>\n",
       "    <tr>\n",
       "      <th>0082-LDZUE</th>\n",
       "      <td>1</td>\n",
       "    </tr>\n",
       "    <tr>\n",
       "      <th>0096-BXERS</th>\n",
       "      <td>1</td>\n",
       "    </tr>\n",
       "    <tr>\n",
       "      <th>0096-FCPUF</th>\n",
       "      <td>0</td>\n",
       "    </tr>\n",
       "    <tr>\n",
       "      <th>0106-GHRQR</th>\n",
       "      <td>1</td>\n",
       "    </tr>\n",
       "    <tr>\n",
       "      <th>0117-LFRMW</th>\n",
       "      <td>0</td>\n",
       "    </tr>\n",
       "    <tr>\n",
       "      <th>0128-MKWSG</th>\n",
       "      <td>0</td>\n",
       "    </tr>\n",
       "    <tr>\n",
       "      <th>0156-FVPTA</th>\n",
       "      <td>0</td>\n",
       "    </tr>\n",
       "    <tr>\n",
       "      <th>0191-ZHSKZ</th>\n",
       "      <td>0</td>\n",
       "    </tr>\n",
       "    <tr>\n",
       "      <th>0212-ISBBF</th>\n",
       "      <td>0</td>\n",
       "    </tr>\n",
       "    <tr>\n",
       "      <th>0222-CNVPT</th>\n",
       "      <td>0</td>\n",
       "    </tr>\n",
       "    <tr>\n",
       "      <th>0224-HJAPT</th>\n",
       "      <td>1</td>\n",
       "    </tr>\n",
       "    <tr>\n",
       "      <th>0224-RLWWD</th>\n",
       "      <td>1</td>\n",
       "    </tr>\n",
       "    <tr>\n",
       "      <th>0228-MAUWC</th>\n",
       "      <td>1</td>\n",
       "    </tr>\n",
       "    <tr>\n",
       "      <th>0248-IPDFW</th>\n",
       "      <td>1</td>\n",
       "    </tr>\n",
       "    <tr>\n",
       "      <th>0257-KXZGU</th>\n",
       "      <td>0</td>\n",
       "    </tr>\n",
       "    <tr>\n",
       "      <th>0260-ZDLGK</th>\n",
       "      <td>1</td>\n",
       "    </tr>\n",
       "    <tr>\n",
       "      <th>0274-JKUJR</th>\n",
       "      <td>1</td>\n",
       "    </tr>\n",
       "    <tr>\n",
       "      <th>0277-BKSQP</th>\n",
       "      <td>1</td>\n",
       "    </tr>\n",
       "    <tr>\n",
       "      <th>0282-NVSJS</th>\n",
       "      <td>0</td>\n",
       "    </tr>\n",
       "    <tr>\n",
       "      <th>0285-INHLN</th>\n",
       "      <td>0</td>\n",
       "    </tr>\n",
       "    <tr>\n",
       "      <th>0289-IVARM</th>\n",
       "      <td>0</td>\n",
       "    </tr>\n",
       "    <tr>\n",
       "      <th>0292-WEGCH</th>\n",
       "      <td>0</td>\n",
       "    </tr>\n",
       "    <tr>\n",
       "      <th>0295-QVKPB</th>\n",
       "      <td>1</td>\n",
       "    </tr>\n",
       "    <tr>\n",
       "      <th>...</th>\n",
       "      <td>...</td>\n",
       "    </tr>\n",
       "    <tr>\n",
       "      <th>9537-JALFH</th>\n",
       "      <td>0</td>\n",
       "    </tr>\n",
       "    <tr>\n",
       "      <th>9548-LERKT</th>\n",
       "      <td>0</td>\n",
       "    </tr>\n",
       "    <tr>\n",
       "      <th>9565-AXSMR</th>\n",
       "      <td>0</td>\n",
       "    </tr>\n",
       "    <tr>\n",
       "      <th>9574-BOSMD</th>\n",
       "      <td>0</td>\n",
       "    </tr>\n",
       "    <tr>\n",
       "      <th>9585-KKMFD</th>\n",
       "      <td>0</td>\n",
       "    </tr>\n",
       "    <tr>\n",
       "      <th>9588-YRFHY</th>\n",
       "      <td>0</td>\n",
       "    </tr>\n",
       "    <tr>\n",
       "      <th>9593-CVZKR</th>\n",
       "      <td>0</td>\n",
       "    </tr>\n",
       "    <tr>\n",
       "      <th>9624-EGDEQ</th>\n",
       "      <td>0</td>\n",
       "    </tr>\n",
       "    <tr>\n",
       "      <th>9625-RZFUK</th>\n",
       "      <td>0</td>\n",
       "    </tr>\n",
       "    <tr>\n",
       "      <th>9631-RXVJM</th>\n",
       "      <td>0</td>\n",
       "    </tr>\n",
       "    <tr>\n",
       "      <th>9646-NMHXE</th>\n",
       "      <td>0</td>\n",
       "    </tr>\n",
       "    <tr>\n",
       "      <th>9648-BCHKM</th>\n",
       "      <td>0</td>\n",
       "    </tr>\n",
       "    <tr>\n",
       "      <th>9650-VBUOG</th>\n",
       "      <td>0</td>\n",
       "    </tr>\n",
       "    <tr>\n",
       "      <th>9661-JALZV</th>\n",
       "      <td>0</td>\n",
       "    </tr>\n",
       "    <tr>\n",
       "      <th>9668-PUGNU</th>\n",
       "      <td>0</td>\n",
       "    </tr>\n",
       "    <tr>\n",
       "      <th>9710-NJERN</th>\n",
       "      <td>0</td>\n",
       "    </tr>\n",
       "    <tr>\n",
       "      <th>9717-IOAAF</th>\n",
       "      <td>0</td>\n",
       "    </tr>\n",
       "    <tr>\n",
       "      <th>9764-REAFF</th>\n",
       "      <td>0</td>\n",
       "    </tr>\n",
       "    <tr>\n",
       "      <th>9798-OPFEM</th>\n",
       "      <td>0</td>\n",
       "    </tr>\n",
       "    <tr>\n",
       "      <th>9800-OUIGR</th>\n",
       "      <td>0</td>\n",
       "    </tr>\n",
       "    <tr>\n",
       "      <th>9814-AOUDH</th>\n",
       "      <td>0</td>\n",
       "    </tr>\n",
       "    <tr>\n",
       "      <th>9838-BFCQT</th>\n",
       "      <td>0</td>\n",
       "    </tr>\n",
       "    <tr>\n",
       "      <th>9916-AYHTC</th>\n",
       "      <td>0</td>\n",
       "    </tr>\n",
       "    <tr>\n",
       "      <th>9938-PRCVK</th>\n",
       "      <td>0</td>\n",
       "    </tr>\n",
       "    <tr>\n",
       "      <th>9945-PSVIP</th>\n",
       "      <td>0</td>\n",
       "    </tr>\n",
       "    <tr>\n",
       "      <th>9950-MTGYX</th>\n",
       "      <td>0</td>\n",
       "    </tr>\n",
       "    <tr>\n",
       "      <th>9953-ZMKSM</th>\n",
       "      <td>0</td>\n",
       "    </tr>\n",
       "    <tr>\n",
       "      <th>9964-WBQDJ</th>\n",
       "      <td>0</td>\n",
       "    </tr>\n",
       "    <tr>\n",
       "      <th>9972-EWRJS</th>\n",
       "      <td>0</td>\n",
       "    </tr>\n",
       "    <tr>\n",
       "      <th>9975-GPKZU</th>\n",
       "      <td>0</td>\n",
       "    </tr>\n",
       "  </tbody>\n",
       "</table>\n",
       "<p>7032 rows × 1 columns</p>\n",
       "</div>"
      ],
      "text/plain": [
       "             y_pred\n",
       "customer_id        \n",
       "0003-MKNFE        1\n",
       "0013-MHZWF        1\n",
       "0015-UOCOJ        1\n",
       "0023-HGHWL        1\n",
       "0032-PGELS        1\n",
       "0067-DKWBL        1\n",
       "0076-LVEPS        0\n",
       "0082-LDZUE        1\n",
       "0096-BXERS        1\n",
       "0096-FCPUF        0\n",
       "0106-GHRQR        1\n",
       "0117-LFRMW        0\n",
       "0128-MKWSG        0\n",
       "0156-FVPTA        0\n",
       "0191-ZHSKZ        0\n",
       "0212-ISBBF        0\n",
       "0222-CNVPT        0\n",
       "0224-HJAPT        1\n",
       "0224-RLWWD        1\n",
       "0228-MAUWC        1\n",
       "0248-IPDFW        1\n",
       "0257-KXZGU        0\n",
       "0260-ZDLGK        1\n",
       "0274-JKUJR        1\n",
       "0277-BKSQP        1\n",
       "0282-NVSJS        0\n",
       "0285-INHLN        0\n",
       "0289-IVARM        0\n",
       "0292-WEGCH        0\n",
       "0295-QVKPB        1\n",
       "...             ...\n",
       "9537-JALFH        0\n",
       "9548-LERKT        0\n",
       "9565-AXSMR        0\n",
       "9574-BOSMD        0\n",
       "9585-KKMFD        0\n",
       "9588-YRFHY        0\n",
       "9593-CVZKR        0\n",
       "9624-EGDEQ        0\n",
       "9625-RZFUK        0\n",
       "9631-RXVJM        0\n",
       "9646-NMHXE        0\n",
       "9648-BCHKM        0\n",
       "9650-VBUOG        0\n",
       "9661-JALZV        0\n",
       "9668-PUGNU        0\n",
       "9710-NJERN        0\n",
       "9717-IOAAF        0\n",
       "9764-REAFF        0\n",
       "9798-OPFEM        0\n",
       "9800-OUIGR        0\n",
       "9814-AOUDH        0\n",
       "9838-BFCQT        0\n",
       "9916-AYHTC        0\n",
       "9938-PRCVK        0\n",
       "9945-PSVIP        0\n",
       "9950-MTGYX        0\n",
       "9953-ZMKSM        0\n",
       "9964-WBQDJ        0\n",
       "9972-EWRJS        0\n",
       "9975-GPKZU        0\n",
       "\n",
       "[7032 rows x 1 columns]"
      ]
     },
     "execution_count": 192,
     "metadata": {},
     "output_type": "execute_result"
    }
   ],
   "source": [
    "y_pred = pd.DataFrame(logit.predict(X), columns = ['y_pred'],index = st.index)\n",
    "y_pred"
   ]
  },
  {
   "cell_type": "code",
   "execution_count": 193,
   "metadata": {},
   "outputs": [
    {
     "name": "stdout",
     "output_type": "stream",
     "text": [
      "              precision    recall  f1-score   support\n",
      "\n",
      "           0       0.88      0.70      0.78      5163\n",
      "           1       0.47      0.73      0.57      1869\n",
      "\n",
      "    accuracy                           0.71      7032\n",
      "   macro avg       0.67      0.72      0.67      7032\n",
      "weighted avg       0.77      0.71      0.72      7032\n",
      "\n"
     ]
    }
   ],
   "source": [
    "print(classification_report(y,y_pred))"
   ]
  },
  {
   "cell_type": "code",
   "execution_count": 232,
   "metadata": {},
   "outputs": [
    {
     "data": {
      "text/plain": [
       "0.6317197355379639"
      ]
     },
     "execution_count": 232,
     "metadata": {},
     "output_type": "execute_result"
    }
   ],
   "source": [
    "# Predict the probabilities of churn using logistic regression model:\n",
    "y_pred_proba = pd.DataFrame(logit.predict_proba(X), columns = ['no_churn_proba','churn_proba'], index = st.index)\n",
    "y_pred_proba\n",
    "y_pred_proba.churn_proba[0]"
   ]
  },
  {
   "cell_type": "code",
   "execution_count": 233,
   "metadata": {},
   "outputs": [
    {
     "data": {
      "text/html": [
       "<div>\n",
       "<style scoped>\n",
       "    .dataframe tbody tr th:only-of-type {\n",
       "        vertical-align: middle;\n",
       "    }\n",
       "\n",
       "    .dataframe tbody tr th {\n",
       "        vertical-align: top;\n",
       "    }\n",
       "\n",
       "    .dataframe thead th {\n",
       "        text-align: right;\n",
       "    }\n",
       "</style>\n",
       "<table border=\"1\" class=\"dataframe\">\n",
       "  <thead>\n",
       "    <tr style=\"text-align: right;\">\n",
       "      <th></th>\n",
       "      <th>churn</th>\n",
       "    </tr>\n",
       "    <tr>\n",
       "      <th>customer_id</th>\n",
       "      <th></th>\n",
       "    </tr>\n",
       "  </thead>\n",
       "  <tbody>\n",
       "    <tr>\n",
       "      <th>0003-MKNFE</th>\n",
       "      <td>0</td>\n",
       "    </tr>\n",
       "    <tr>\n",
       "      <th>0013-MHZWF</th>\n",
       "      <td>0</td>\n",
       "    </tr>\n",
       "    <tr>\n",
       "      <th>0015-UOCOJ</th>\n",
       "      <td>0</td>\n",
       "    </tr>\n",
       "    <tr>\n",
       "      <th>0023-HGHWL</th>\n",
       "      <td>1</td>\n",
       "    </tr>\n",
       "    <tr>\n",
       "      <th>0032-PGELS</th>\n",
       "      <td>1</td>\n",
       "    </tr>\n",
       "    <tr>\n",
       "      <th>0067-DKWBL</th>\n",
       "      <td>1</td>\n",
       "    </tr>\n",
       "    <tr>\n",
       "      <th>0076-LVEPS</th>\n",
       "      <td>0</td>\n",
       "    </tr>\n",
       "    <tr>\n",
       "      <th>0082-LDZUE</th>\n",
       "      <td>0</td>\n",
       "    </tr>\n",
       "    <tr>\n",
       "      <th>0096-BXERS</th>\n",
       "      <td>0</td>\n",
       "    </tr>\n",
       "    <tr>\n",
       "      <th>0096-FCPUF</th>\n",
       "      <td>0</td>\n",
       "    </tr>\n",
       "    <tr>\n",
       "      <th>0106-GHRQR</th>\n",
       "      <td>0</td>\n",
       "    </tr>\n",
       "    <tr>\n",
       "      <th>0117-LFRMW</th>\n",
       "      <td>1</td>\n",
       "    </tr>\n",
       "    <tr>\n",
       "      <th>0128-MKWSG</th>\n",
       "      <td>0</td>\n",
       "    </tr>\n",
       "    <tr>\n",
       "      <th>0156-FVPTA</th>\n",
       "      <td>1</td>\n",
       "    </tr>\n",
       "    <tr>\n",
       "      <th>0191-ZHSKZ</th>\n",
       "      <td>0</td>\n",
       "    </tr>\n",
       "    <tr>\n",
       "      <th>0212-ISBBF</th>\n",
       "      <td>0</td>\n",
       "    </tr>\n",
       "    <tr>\n",
       "      <th>0222-CNVPT</th>\n",
       "      <td>0</td>\n",
       "    </tr>\n",
       "    <tr>\n",
       "      <th>0224-HJAPT</th>\n",
       "      <td>1</td>\n",
       "    </tr>\n",
       "    <tr>\n",
       "      <th>0224-RLWWD</th>\n",
       "      <td>0</td>\n",
       "    </tr>\n",
       "    <tr>\n",
       "      <th>0228-MAUWC</th>\n",
       "      <td>0</td>\n",
       "    </tr>\n",
       "    <tr>\n",
       "      <th>0248-IPDFW</th>\n",
       "      <td>0</td>\n",
       "    </tr>\n",
       "    <tr>\n",
       "      <th>0257-KXZGU</th>\n",
       "      <td>0</td>\n",
       "    </tr>\n",
       "    <tr>\n",
       "      <th>0260-ZDLGK</th>\n",
       "      <td>1</td>\n",
       "    </tr>\n",
       "    <tr>\n",
       "      <th>0274-JKUJR</th>\n",
       "      <td>0</td>\n",
       "    </tr>\n",
       "    <tr>\n",
       "      <th>0277-BKSQP</th>\n",
       "      <td>0</td>\n",
       "    </tr>\n",
       "    <tr>\n",
       "      <th>0282-NVSJS</th>\n",
       "      <td>0</td>\n",
       "    </tr>\n",
       "    <tr>\n",
       "      <th>0285-INHLN</th>\n",
       "      <td>0</td>\n",
       "    </tr>\n",
       "    <tr>\n",
       "      <th>0289-IVARM</th>\n",
       "      <td>0</td>\n",
       "    </tr>\n",
       "    <tr>\n",
       "      <th>0292-WEGCH</th>\n",
       "      <td>0</td>\n",
       "    </tr>\n",
       "    <tr>\n",
       "      <th>0295-QVKPB</th>\n",
       "      <td>0</td>\n",
       "    </tr>\n",
       "    <tr>\n",
       "      <th>...</th>\n",
       "      <td>...</td>\n",
       "    </tr>\n",
       "    <tr>\n",
       "      <th>9537-JALFH</th>\n",
       "      <td>0</td>\n",
       "    </tr>\n",
       "    <tr>\n",
       "      <th>9548-LERKT</th>\n",
       "      <td>0</td>\n",
       "    </tr>\n",
       "    <tr>\n",
       "      <th>9565-AXSMR</th>\n",
       "      <td>0</td>\n",
       "    </tr>\n",
       "    <tr>\n",
       "      <th>9574-BOSMD</th>\n",
       "      <td>0</td>\n",
       "    </tr>\n",
       "    <tr>\n",
       "      <th>9585-KKMFD</th>\n",
       "      <td>0</td>\n",
       "    </tr>\n",
       "    <tr>\n",
       "      <th>9588-YRFHY</th>\n",
       "      <td>0</td>\n",
       "    </tr>\n",
       "    <tr>\n",
       "      <th>9593-CVZKR</th>\n",
       "      <td>0</td>\n",
       "    </tr>\n",
       "    <tr>\n",
       "      <th>9624-EGDEQ</th>\n",
       "      <td>0</td>\n",
       "    </tr>\n",
       "    <tr>\n",
       "      <th>9625-RZFUK</th>\n",
       "      <td>0</td>\n",
       "    </tr>\n",
       "    <tr>\n",
       "      <th>9631-RXVJM</th>\n",
       "      <td>0</td>\n",
       "    </tr>\n",
       "    <tr>\n",
       "      <th>9646-NMHXE</th>\n",
       "      <td>0</td>\n",
       "    </tr>\n",
       "    <tr>\n",
       "      <th>9648-BCHKM</th>\n",
       "      <td>0</td>\n",
       "    </tr>\n",
       "    <tr>\n",
       "      <th>9650-VBUOG</th>\n",
       "      <td>0</td>\n",
       "    </tr>\n",
       "    <tr>\n",
       "      <th>9661-JALZV</th>\n",
       "      <td>0</td>\n",
       "    </tr>\n",
       "    <tr>\n",
       "      <th>9668-PUGNU</th>\n",
       "      <td>0</td>\n",
       "    </tr>\n",
       "    <tr>\n",
       "      <th>9710-NJERN</th>\n",
       "      <td>0</td>\n",
       "    </tr>\n",
       "    <tr>\n",
       "      <th>9717-IOAAF</th>\n",
       "      <td>0</td>\n",
       "    </tr>\n",
       "    <tr>\n",
       "      <th>9764-REAFF</th>\n",
       "      <td>0</td>\n",
       "    </tr>\n",
       "    <tr>\n",
       "      <th>9798-OPFEM</th>\n",
       "      <td>0</td>\n",
       "    </tr>\n",
       "    <tr>\n",
       "      <th>9800-OUIGR</th>\n",
       "      <td>0</td>\n",
       "    </tr>\n",
       "    <tr>\n",
       "      <th>9814-AOUDH</th>\n",
       "      <td>0</td>\n",
       "    </tr>\n",
       "    <tr>\n",
       "      <th>9838-BFCQT</th>\n",
       "      <td>0</td>\n",
       "    </tr>\n",
       "    <tr>\n",
       "      <th>9916-AYHTC</th>\n",
       "      <td>0</td>\n",
       "    </tr>\n",
       "    <tr>\n",
       "      <th>9938-PRCVK</th>\n",
       "      <td>0</td>\n",
       "    </tr>\n",
       "    <tr>\n",
       "      <th>9945-PSVIP</th>\n",
       "      <td>0</td>\n",
       "    </tr>\n",
       "    <tr>\n",
       "      <th>9950-MTGYX</th>\n",
       "      <td>0</td>\n",
       "    </tr>\n",
       "    <tr>\n",
       "      <th>9953-ZMKSM</th>\n",
       "      <td>0</td>\n",
       "    </tr>\n",
       "    <tr>\n",
       "      <th>9964-WBQDJ</th>\n",
       "      <td>0</td>\n",
       "    </tr>\n",
       "    <tr>\n",
       "      <th>9972-EWRJS</th>\n",
       "      <td>0</td>\n",
       "    </tr>\n",
       "    <tr>\n",
       "      <th>9975-GPKZU</th>\n",
       "      <td>0</td>\n",
       "    </tr>\n",
       "  </tbody>\n",
       "</table>\n",
       "<p>7032 rows × 1 columns</p>\n",
       "</div>"
      ],
      "text/plain": [
       "             churn\n",
       "customer_id       \n",
       "0003-MKNFE       0\n",
       "0013-MHZWF       0\n",
       "0015-UOCOJ       0\n",
       "0023-HGHWL       1\n",
       "0032-PGELS       1\n",
       "0067-DKWBL       1\n",
       "0076-LVEPS       0\n",
       "0082-LDZUE       0\n",
       "0096-BXERS       0\n",
       "0096-FCPUF       0\n",
       "0106-GHRQR       0\n",
       "0117-LFRMW       1\n",
       "0128-MKWSG       0\n",
       "0156-FVPTA       1\n",
       "0191-ZHSKZ       0\n",
       "0212-ISBBF       0\n",
       "0222-CNVPT       0\n",
       "0224-HJAPT       1\n",
       "0224-RLWWD       0\n",
       "0228-MAUWC       0\n",
       "0248-IPDFW       0\n",
       "0257-KXZGU       0\n",
       "0260-ZDLGK       1\n",
       "0274-JKUJR       0\n",
       "0277-BKSQP       0\n",
       "0282-NVSJS       0\n",
       "0285-INHLN       0\n",
       "0289-IVARM       0\n",
       "0292-WEGCH       0\n",
       "0295-QVKPB       0\n",
       "...            ...\n",
       "9537-JALFH       0\n",
       "9548-LERKT       0\n",
       "9565-AXSMR       0\n",
       "9574-BOSMD       0\n",
       "9585-KKMFD       0\n",
       "9588-YRFHY       0\n",
       "9593-CVZKR       0\n",
       "9624-EGDEQ       0\n",
       "9625-RZFUK       0\n",
       "9631-RXVJM       0\n",
       "9646-NMHXE       0\n",
       "9648-BCHKM       0\n",
       "9650-VBUOG       0\n",
       "9661-JALZV       0\n",
       "9668-PUGNU       0\n",
       "9710-NJERN       0\n",
       "9717-IOAAF       0\n",
       "9764-REAFF       0\n",
       "9798-OPFEM       0\n",
       "9800-OUIGR       0\n",
       "9814-AOUDH       0\n",
       "9838-BFCQT       0\n",
       "9916-AYHTC       0\n",
       "9938-PRCVK       0\n",
       "9945-PSVIP       0\n",
       "9950-MTGYX       0\n",
       "9953-ZMKSM       0\n",
       "9964-WBQDJ       0\n",
       "9972-EWRJS       0\n",
       "9975-GPKZU       0\n",
       "\n",
       "[7032 rows x 1 columns]"
      ]
     },
     "execution_count": 233,
     "metadata": {},
     "output_type": "execute_result"
    }
   ],
   "source": [
    "y"
   ]
  },
  {
   "cell_type": "code",
   "execution_count": 234,
   "metadata": {
    "scrolled": true
   },
   "outputs": [
    {
     "data": {
      "text/html": [
       "<div>\n",
       "<style scoped>\n",
       "    .dataframe tbody tr th:only-of-type {\n",
       "        vertical-align: middle;\n",
       "    }\n",
       "\n",
       "    .dataframe tbody tr th {\n",
       "        vertical-align: top;\n",
       "    }\n",
       "\n",
       "    .dataframe thead th {\n",
       "        text-align: right;\n",
       "    }\n",
       "</style>\n",
       "<table border=\"1\" class=\"dataframe\">\n",
       "  <thead>\n",
       "    <tr style=\"text-align: right;\">\n",
       "      <th></th>\n",
       "      <th>churn</th>\n",
       "      <th>y_pred</th>\n",
       "      <th>no_churn_proba</th>\n",
       "      <th>churn_proba</th>\n",
       "    </tr>\n",
       "    <tr>\n",
       "      <th>customer_id</th>\n",
       "      <th></th>\n",
       "      <th></th>\n",
       "      <th></th>\n",
       "      <th></th>\n",
       "    </tr>\n",
       "  </thead>\n",
       "  <tbody>\n",
       "    <tr>\n",
       "      <th>0003-MKNFE</th>\n",
       "      <td>0</td>\n",
       "      <td>1</td>\n",
       "      <td>0.368280</td>\n",
       "      <td>0.631720</td>\n",
       "    </tr>\n",
       "    <tr>\n",
       "      <th>0013-MHZWF</th>\n",
       "      <td>0</td>\n",
       "      <td>1</td>\n",
       "      <td>0.335687</td>\n",
       "      <td>0.664313</td>\n",
       "    </tr>\n",
       "    <tr>\n",
       "      <th>0015-UOCOJ</th>\n",
       "      <td>0</td>\n",
       "      <td>1</td>\n",
       "      <td>0.388534</td>\n",
       "      <td>0.611466</td>\n",
       "    </tr>\n",
       "    <tr>\n",
       "      <th>0023-HGHWL</th>\n",
       "      <td>1</td>\n",
       "      <td>1</td>\n",
       "      <td>0.414518</td>\n",
       "      <td>0.585482</td>\n",
       "    </tr>\n",
       "    <tr>\n",
       "      <th>0032-PGELS</th>\n",
       "      <td>1</td>\n",
       "      <td>1</td>\n",
       "      <td>0.395038</td>\n",
       "      <td>0.604962</td>\n",
       "    </tr>\n",
       "    <tr>\n",
       "      <th>0067-DKWBL</th>\n",
       "      <td>1</td>\n",
       "      <td>1</td>\n",
       "      <td>0.337901</td>\n",
       "      <td>0.662099</td>\n",
       "    </tr>\n",
       "    <tr>\n",
       "      <th>0076-LVEPS</th>\n",
       "      <td>0</td>\n",
       "      <td>0</td>\n",
       "      <td>0.615879</td>\n",
       "      <td>0.384121</td>\n",
       "    </tr>\n",
       "    <tr>\n",
       "      <th>0082-LDZUE</th>\n",
       "      <td>0</td>\n",
       "      <td>1</td>\n",
       "      <td>0.346262</td>\n",
       "      <td>0.653738</td>\n",
       "    </tr>\n",
       "    <tr>\n",
       "      <th>0096-BXERS</th>\n",
       "      <td>0</td>\n",
       "      <td>1</td>\n",
       "      <td>0.371761</td>\n",
       "      <td>0.628239</td>\n",
       "    </tr>\n",
       "    <tr>\n",
       "      <th>0096-FCPUF</th>\n",
       "      <td>0</td>\n",
       "      <td>0</td>\n",
       "      <td>0.567610</td>\n",
       "      <td>0.432390</td>\n",
       "    </tr>\n",
       "    <tr>\n",
       "      <th>0106-GHRQR</th>\n",
       "      <td>0</td>\n",
       "      <td>1</td>\n",
       "      <td>0.401164</td>\n",
       "      <td>0.598836</td>\n",
       "    </tr>\n",
       "    <tr>\n",
       "      <th>0117-LFRMW</th>\n",
       "      <td>1</td>\n",
       "      <td>0</td>\n",
       "      <td>0.700857</td>\n",
       "      <td>0.299143</td>\n",
       "    </tr>\n",
       "    <tr>\n",
       "      <th>0128-MKWSG</th>\n",
       "      <td>0</td>\n",
       "      <td>0</td>\n",
       "      <td>0.584973</td>\n",
       "      <td>0.415027</td>\n",
       "    </tr>\n",
       "    <tr>\n",
       "      <th>0156-FVPTA</th>\n",
       "      <td>1</td>\n",
       "      <td>0</td>\n",
       "      <td>0.517576</td>\n",
       "      <td>0.482424</td>\n",
       "    </tr>\n",
       "    <tr>\n",
       "      <th>0191-ZHSKZ</th>\n",
       "      <td>0</td>\n",
       "      <td>0</td>\n",
       "      <td>0.533730</td>\n",
       "      <td>0.466270</td>\n",
       "    </tr>\n",
       "    <tr>\n",
       "      <th>0212-ISBBF</th>\n",
       "      <td>0</td>\n",
       "      <td>0</td>\n",
       "      <td>0.530966</td>\n",
       "      <td>0.469034</td>\n",
       "    </tr>\n",
       "    <tr>\n",
       "      <th>0222-CNVPT</th>\n",
       "      <td>0</td>\n",
       "      <td>0</td>\n",
       "      <td>0.796403</td>\n",
       "      <td>0.203597</td>\n",
       "    </tr>\n",
       "    <tr>\n",
       "      <th>0224-HJAPT</th>\n",
       "      <td>1</td>\n",
       "      <td>1</td>\n",
       "      <td>0.372769</td>\n",
       "      <td>0.627231</td>\n",
       "    </tr>\n",
       "    <tr>\n",
       "      <th>0224-RLWWD</th>\n",
       "      <td>0</td>\n",
       "      <td>1</td>\n",
       "      <td>0.355009</td>\n",
       "      <td>0.644991</td>\n",
       "    </tr>\n",
       "    <tr>\n",
       "      <th>0228-MAUWC</th>\n",
       "      <td>0</td>\n",
       "      <td>1</td>\n",
       "      <td>0.470112</td>\n",
       "      <td>0.529888</td>\n",
       "    </tr>\n",
       "    <tr>\n",
       "      <th>0248-IPDFW</th>\n",
       "      <td>0</td>\n",
       "      <td>1</td>\n",
       "      <td>0.326197</td>\n",
       "      <td>0.673803</td>\n",
       "    </tr>\n",
       "    <tr>\n",
       "      <th>0257-KXZGU</th>\n",
       "      <td>0</td>\n",
       "      <td>0</td>\n",
       "      <td>0.596232</td>\n",
       "      <td>0.403768</td>\n",
       "    </tr>\n",
       "    <tr>\n",
       "      <th>0260-ZDLGK</th>\n",
       "      <td>1</td>\n",
       "      <td>1</td>\n",
       "      <td>0.325643</td>\n",
       "      <td>0.674357</td>\n",
       "    </tr>\n",
       "    <tr>\n",
       "      <th>0274-JKUJR</th>\n",
       "      <td>0</td>\n",
       "      <td>1</td>\n",
       "      <td>0.353760</td>\n",
       "      <td>0.646240</td>\n",
       "    </tr>\n",
       "    <tr>\n",
       "      <th>0277-BKSQP</th>\n",
       "      <td>0</td>\n",
       "      <td>1</td>\n",
       "      <td>0.377659</td>\n",
       "      <td>0.622341</td>\n",
       "    </tr>\n",
       "    <tr>\n",
       "      <th>0282-NVSJS</th>\n",
       "      <td>0</td>\n",
       "      <td>0</td>\n",
       "      <td>0.504483</td>\n",
       "      <td>0.495517</td>\n",
       "    </tr>\n",
       "    <tr>\n",
       "      <th>0285-INHLN</th>\n",
       "      <td>0</td>\n",
       "      <td>0</td>\n",
       "      <td>0.568774</td>\n",
       "      <td>0.431226</td>\n",
       "    </tr>\n",
       "    <tr>\n",
       "      <th>0289-IVARM</th>\n",
       "      <td>0</td>\n",
       "      <td>0</td>\n",
       "      <td>0.626890</td>\n",
       "      <td>0.373110</td>\n",
       "    </tr>\n",
       "    <tr>\n",
       "      <th>0292-WEGCH</th>\n",
       "      <td>0</td>\n",
       "      <td>0</td>\n",
       "      <td>0.741306</td>\n",
       "      <td>0.258694</td>\n",
       "    </tr>\n",
       "    <tr>\n",
       "      <th>0295-QVKPB</th>\n",
       "      <td>0</td>\n",
       "      <td>1</td>\n",
       "      <td>0.317149</td>\n",
       "      <td>0.682851</td>\n",
       "    </tr>\n",
       "    <tr>\n",
       "      <th>...</th>\n",
       "      <td>...</td>\n",
       "      <td>...</td>\n",
       "      <td>...</td>\n",
       "      <td>...</td>\n",
       "    </tr>\n",
       "    <tr>\n",
       "      <th>9537-JALFH</th>\n",
       "      <td>0</td>\n",
       "      <td>0</td>\n",
       "      <td>0.908883</td>\n",
       "      <td>0.091117</td>\n",
       "    </tr>\n",
       "    <tr>\n",
       "      <th>9548-LERKT</th>\n",
       "      <td>0</td>\n",
       "      <td>0</td>\n",
       "      <td>0.647377</td>\n",
       "      <td>0.352623</td>\n",
       "    </tr>\n",
       "    <tr>\n",
       "      <th>9565-AXSMR</th>\n",
       "      <td>0</td>\n",
       "      <td>0</td>\n",
       "      <td>0.842048</td>\n",
       "      <td>0.157952</td>\n",
       "    </tr>\n",
       "    <tr>\n",
       "      <th>9574-BOSMD</th>\n",
       "      <td>0</td>\n",
       "      <td>0</td>\n",
       "      <td>0.900757</td>\n",
       "      <td>0.099243</td>\n",
       "    </tr>\n",
       "    <tr>\n",
       "      <th>9585-KKMFD</th>\n",
       "      <td>0</td>\n",
       "      <td>0</td>\n",
       "      <td>0.777408</td>\n",
       "      <td>0.222592</td>\n",
       "    </tr>\n",
       "    <tr>\n",
       "      <th>9588-YRFHY</th>\n",
       "      <td>0</td>\n",
       "      <td>0</td>\n",
       "      <td>0.825190</td>\n",
       "      <td>0.174810</td>\n",
       "    </tr>\n",
       "    <tr>\n",
       "      <th>9593-CVZKR</th>\n",
       "      <td>0</td>\n",
       "      <td>0</td>\n",
       "      <td>0.854267</td>\n",
       "      <td>0.145733</td>\n",
       "    </tr>\n",
       "    <tr>\n",
       "      <th>9624-EGDEQ</th>\n",
       "      <td>0</td>\n",
       "      <td>0</td>\n",
       "      <td>0.751022</td>\n",
       "      <td>0.248978</td>\n",
       "    </tr>\n",
       "    <tr>\n",
       "      <th>9625-RZFUK</th>\n",
       "      <td>0</td>\n",
       "      <td>0</td>\n",
       "      <td>0.889047</td>\n",
       "      <td>0.110953</td>\n",
       "    </tr>\n",
       "    <tr>\n",
       "      <th>9631-RXVJM</th>\n",
       "      <td>0</td>\n",
       "      <td>0</td>\n",
       "      <td>0.736485</td>\n",
       "      <td>0.263515</td>\n",
       "    </tr>\n",
       "    <tr>\n",
       "      <th>9646-NMHXE</th>\n",
       "      <td>0</td>\n",
       "      <td>0</td>\n",
       "      <td>0.814539</td>\n",
       "      <td>0.185461</td>\n",
       "    </tr>\n",
       "    <tr>\n",
       "      <th>9648-BCHKM</th>\n",
       "      <td>0</td>\n",
       "      <td>0</td>\n",
       "      <td>0.578405</td>\n",
       "      <td>0.421595</td>\n",
       "    </tr>\n",
       "    <tr>\n",
       "      <th>9650-VBUOG</th>\n",
       "      <td>0</td>\n",
       "      <td>0</td>\n",
       "      <td>0.745301</td>\n",
       "      <td>0.254699</td>\n",
       "    </tr>\n",
       "    <tr>\n",
       "      <th>9661-JALZV</th>\n",
       "      <td>0</td>\n",
       "      <td>0</td>\n",
       "      <td>0.863975</td>\n",
       "      <td>0.136025</td>\n",
       "    </tr>\n",
       "    <tr>\n",
       "      <th>9668-PUGNU</th>\n",
       "      <td>0</td>\n",
       "      <td>0</td>\n",
       "      <td>0.912501</td>\n",
       "      <td>0.087499</td>\n",
       "    </tr>\n",
       "    <tr>\n",
       "      <th>9710-NJERN</th>\n",
       "      <td>0</td>\n",
       "      <td>0</td>\n",
       "      <td>0.763421</td>\n",
       "      <td>0.236579</td>\n",
       "    </tr>\n",
       "    <tr>\n",
       "      <th>9717-IOAAF</th>\n",
       "      <td>0</td>\n",
       "      <td>0</td>\n",
       "      <td>0.657178</td>\n",
       "      <td>0.342822</td>\n",
       "    </tr>\n",
       "    <tr>\n",
       "      <th>9764-REAFF</th>\n",
       "      <td>0</td>\n",
       "      <td>0</td>\n",
       "      <td>0.873927</td>\n",
       "      <td>0.126073</td>\n",
       "    </tr>\n",
       "    <tr>\n",
       "      <th>9798-OPFEM</th>\n",
       "      <td>0</td>\n",
       "      <td>0</td>\n",
       "      <td>0.804801</td>\n",
       "      <td>0.195199</td>\n",
       "    </tr>\n",
       "    <tr>\n",
       "      <th>9800-OUIGR</th>\n",
       "      <td>0</td>\n",
       "      <td>0</td>\n",
       "      <td>0.899614</td>\n",
       "      <td>0.100386</td>\n",
       "    </tr>\n",
       "    <tr>\n",
       "      <th>9814-AOUDH</th>\n",
       "      <td>0</td>\n",
       "      <td>0</td>\n",
       "      <td>0.846045</td>\n",
       "      <td>0.153955</td>\n",
       "    </tr>\n",
       "    <tr>\n",
       "      <th>9838-BFCQT</th>\n",
       "      <td>0</td>\n",
       "      <td>0</td>\n",
       "      <td>0.913807</td>\n",
       "      <td>0.086193</td>\n",
       "    </tr>\n",
       "    <tr>\n",
       "      <th>9916-AYHTC</th>\n",
       "      <td>0</td>\n",
       "      <td>0</td>\n",
       "      <td>0.818550</td>\n",
       "      <td>0.181450</td>\n",
       "    </tr>\n",
       "    <tr>\n",
       "      <th>9938-PRCVK</th>\n",
       "      <td>0</td>\n",
       "      <td>0</td>\n",
       "      <td>0.776849</td>\n",
       "      <td>0.223151</td>\n",
       "    </tr>\n",
       "    <tr>\n",
       "      <th>9945-PSVIP</th>\n",
       "      <td>0</td>\n",
       "      <td>0</td>\n",
       "      <td>0.656954</td>\n",
       "      <td>0.343046</td>\n",
       "    </tr>\n",
       "    <tr>\n",
       "      <th>9950-MTGYX</th>\n",
       "      <td>0</td>\n",
       "      <td>0</td>\n",
       "      <td>0.677505</td>\n",
       "      <td>0.322495</td>\n",
       "    </tr>\n",
       "    <tr>\n",
       "      <th>9953-ZMKSM</th>\n",
       "      <td>0</td>\n",
       "      <td>0</td>\n",
       "      <td>0.883251</td>\n",
       "      <td>0.116749</td>\n",
       "    </tr>\n",
       "    <tr>\n",
       "      <th>9964-WBQDJ</th>\n",
       "      <td>0</td>\n",
       "      <td>0</td>\n",
       "      <td>0.912025</td>\n",
       "      <td>0.087975</td>\n",
       "    </tr>\n",
       "    <tr>\n",
       "      <th>9972-EWRJS</th>\n",
       "      <td>0</td>\n",
       "      <td>0</td>\n",
       "      <td>0.903785</td>\n",
       "      <td>0.096215</td>\n",
       "    </tr>\n",
       "    <tr>\n",
       "      <th>9975-GPKZU</th>\n",
       "      <td>0</td>\n",
       "      <td>0</td>\n",
       "      <td>0.807016</td>\n",
       "      <td>0.192984</td>\n",
       "    </tr>\n",
       "  </tbody>\n",
       "</table>\n",
       "<p>7032 rows × 4 columns</p>\n",
       "</div>"
      ],
      "text/plain": [
       "             churn  y_pred  no_churn_proba  churn_proba\n",
       "customer_id                                            \n",
       "0003-MKNFE       0       1        0.368280     0.631720\n",
       "0013-MHZWF       0       1        0.335687     0.664313\n",
       "0015-UOCOJ       0       1        0.388534     0.611466\n",
       "0023-HGHWL       1       1        0.414518     0.585482\n",
       "0032-PGELS       1       1        0.395038     0.604962\n",
       "0067-DKWBL       1       1        0.337901     0.662099\n",
       "0076-LVEPS       0       0        0.615879     0.384121\n",
       "0082-LDZUE       0       1        0.346262     0.653738\n",
       "0096-BXERS       0       1        0.371761     0.628239\n",
       "0096-FCPUF       0       0        0.567610     0.432390\n",
       "0106-GHRQR       0       1        0.401164     0.598836\n",
       "0117-LFRMW       1       0        0.700857     0.299143\n",
       "0128-MKWSG       0       0        0.584973     0.415027\n",
       "0156-FVPTA       1       0        0.517576     0.482424\n",
       "0191-ZHSKZ       0       0        0.533730     0.466270\n",
       "0212-ISBBF       0       0        0.530966     0.469034\n",
       "0222-CNVPT       0       0        0.796403     0.203597\n",
       "0224-HJAPT       1       1        0.372769     0.627231\n",
       "0224-RLWWD       0       1        0.355009     0.644991\n",
       "0228-MAUWC       0       1        0.470112     0.529888\n",
       "0248-IPDFW       0       1        0.326197     0.673803\n",
       "0257-KXZGU       0       0        0.596232     0.403768\n",
       "0260-ZDLGK       1       1        0.325643     0.674357\n",
       "0274-JKUJR       0       1        0.353760     0.646240\n",
       "0277-BKSQP       0       1        0.377659     0.622341\n",
       "0282-NVSJS       0       0        0.504483     0.495517\n",
       "0285-INHLN       0       0        0.568774     0.431226\n",
       "0289-IVARM       0       0        0.626890     0.373110\n",
       "0292-WEGCH       0       0        0.741306     0.258694\n",
       "0295-QVKPB       0       1        0.317149     0.682851\n",
       "...            ...     ...             ...          ...\n",
       "9537-JALFH       0       0        0.908883     0.091117\n",
       "9548-LERKT       0       0        0.647377     0.352623\n",
       "9565-AXSMR       0       0        0.842048     0.157952\n",
       "9574-BOSMD       0       0        0.900757     0.099243\n",
       "9585-KKMFD       0       0        0.777408     0.222592\n",
       "9588-YRFHY       0       0        0.825190     0.174810\n",
       "9593-CVZKR       0       0        0.854267     0.145733\n",
       "9624-EGDEQ       0       0        0.751022     0.248978\n",
       "9625-RZFUK       0       0        0.889047     0.110953\n",
       "9631-RXVJM       0       0        0.736485     0.263515\n",
       "9646-NMHXE       0       0        0.814539     0.185461\n",
       "9648-BCHKM       0       0        0.578405     0.421595\n",
       "9650-VBUOG       0       0        0.745301     0.254699\n",
       "9661-JALZV       0       0        0.863975     0.136025\n",
       "9668-PUGNU       0       0        0.912501     0.087499\n",
       "9710-NJERN       0       0        0.763421     0.236579\n",
       "9717-IOAAF       0       0        0.657178     0.342822\n",
       "9764-REAFF       0       0        0.873927     0.126073\n",
       "9798-OPFEM       0       0        0.804801     0.195199\n",
       "9800-OUIGR       0       0        0.899614     0.100386\n",
       "9814-AOUDH       0       0        0.846045     0.153955\n",
       "9838-BFCQT       0       0        0.913807     0.086193\n",
       "9916-AYHTC       0       0        0.818550     0.181450\n",
       "9938-PRCVK       0       0        0.776849     0.223151\n",
       "9945-PSVIP       0       0        0.656954     0.343046\n",
       "9950-MTGYX       0       0        0.677505     0.322495\n",
       "9953-ZMKSM       0       0        0.883251     0.116749\n",
       "9964-WBQDJ       0       0        0.912025     0.087975\n",
       "9972-EWRJS       0       0        0.903785     0.096215\n",
       "9975-GPKZU       0       0        0.807016     0.192984\n",
       "\n",
       "[7032 rows x 4 columns]"
      ]
     },
     "execution_count": 234,
     "metadata": {},
     "output_type": "execute_result"
    }
   ],
   "source": [
    "proba_df = y.join([y_pred,y_pred_proba])\n",
    "proba_df"
   ]
  },
  {
   "cell_type": "code",
   "execution_count": 235,
   "metadata": {},
   "outputs": [],
   "source": [
    "# export this file to a CSV\n",
    "#export_csv = proba_df.to_csv (r'proba_churn.csv', header=True) #Don't forget to add '.csv' at the end of the path\n",
    "#export_csv = df.to_csv (r'C:\\Users\\Ron\\Desktop\\export_dataframe.csv', index = None, header=True) #Don't forget to add '.csv' at the end of the path"
   ]
  },
  {
   "cell_type": "code",
   "execution_count": 236,
   "metadata": {},
   "outputs": [],
   "source": [
    "# Visualize model:"
   ]
  },
  {
   "cell_type": "code",
   "execution_count": 239,
   "metadata": {},
   "outputs": [],
   "source": [
    "y_pred_proba_list = [y_pred_proba.churn_proba[i] for i in range(0,len(y_pred_proba.churn_proba))]\n",
    "#y_pred_proba_list"
   ]
  },
  {
   "cell_type": "code",
   "execution_count": 244,
   "metadata": {},
   "outputs": [
    {
     "data": {
      "text/plain": [
       "Text(0.5, 1.0, 'What are the probability predictions for customers who churn?')"
      ]
     },
     "execution_count": 244,
     "metadata": {},
     "output_type": "execute_result"
    },
    {
     "data": {
      "image/png": "[encoded data removed]",
      "text/plain": [
       "<Figure size 432x288 with 1 Axes>"
      ]
     },
     "metadata": {
      "needs_background": "light"
     },
     "output_type": "display_data"
    }
   ],
   "source": [
    "fig = plt.figure()\n",
    "ax = fig.add_subplot(111)\n",
    "ax.scatter(y_pred_proba_list, y_pred)\n",
    "plt.xlabel('probability of churn')\n",
    "plt.ylabel('not_churn = 0.0 , churn = 1.0')\n",
    "plt.title('What are the probability predictions for customers who churn?')"
   ]
  },
  {
   "cell_type": "code",
   "execution_count": null,
   "metadata": {},
   "outputs": [],
   "source": []
  }
 ],
 "metadata": {
  "kernelspec": {
   "display_name": "Python 3",
   "language": "python",
   "name": "python3"
  },
  "language_info": {
   "codemirror_mode": {
    "name": "ipython",
    "version": 3
   },
   "file_extension": ".py",
   "mimetype": "text/x-python",
   "name": "python",
   "nbconvert_exporter": "python",
   "pygments_lexer": "ipython3",
   "version": "3.7.3"
  }
 },
 "nbformat": 4,
 "nbformat_minor": 2
}
